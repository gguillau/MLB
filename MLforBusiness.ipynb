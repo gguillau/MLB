{
 "cells": [
  {
   "cell_type": "markdown",
   "metadata": {},
   "source": [
    "## Project description\n",
    "You work for the OilyGiant mining company. Your task is to find the best place for a new well.\n",
    "Steps to choose the location:\n",
    "- Collect the oil well parameters in the selected region: oil quality and volume of reserves;\n",
    "- Build a model for predicting the volume of reserves in the new wells;\n",
    "- Pick the oil wells with the highest estimated values;\n",
    "- Pick the region with the highest total profit for the selected oil wells.\n",
    "You have data on oil samples from three regions. Parameters of each oil well in the region are already known. Build a model that will help to pick the region with the highest profit margin. Analyze potential profit and risks using the Bootstrapping technique.\n",
    "\n",
    "## Outline\n",
    "- Data Preprocessing\n",
    "- Exploratory Data Analysis\n",
    "- Machine Learning\n",
    "- Conclusion\n",
    "\n",
    "\n",
    "\n",
    "## Data description\n",
    "Geological exploration data for the three regions are stored in files:\n",
    "- geo_data_0.csv\n",
    "- geo_data_1.csv \n",
    "- geo_data_2.csv\n",
    "- id — unique oil well identifier\n",
    "- f0, f1, f2 — three features of points (their specific meaning is unimportant, but the features themselves are significant)\n",
    "- product — volume of reserves in the oil well (thousand barrels).\n",
    "\n",
    "Conditions:\n",
    "- Only linear regression is suitable for model training (the rest are not sufficiently predictable).\n",
    "- When exploring the region, a study of 500 points is carried with picking the best 200 points for the profit calculation.\n",
    "- The budget for development of 200 oil wells is 100 USD million.\n",
    "- One barrel of raw materials brings 4.5 USD of revenue The revenue from one unit of product is 4,500 dollars (volume of reserves is in thousand barrels).\n",
    "- After the risk evaluation, keep only the regions with the risk of losses lower than 2.5%. From the ones that fit the criteria, the region with the highest average profit should be selected.\n",
    "\n",
    "The data is synthetic: contract details and well characteristics are not disclosed.\n"
   ]
  },
  {
   "cell_type": "markdown",
   "metadata": {},
   "source": [
    "## Data Preprocessing\n",
    "- Download and prepare the data. Explain the procedure.\n"
   ]
  },
  {
   "cell_type": "code",
   "execution_count": 1,
   "metadata": {},
   "outputs": [],
   "source": [
    "# Initialize\n",
    "import pandas as pd\n",
    "import numpy as np \n",
    "\n",
    "#visualization\n",
    "import matplotlib.pyplot as plt\n",
    "import seaborn as sns\n",
    "\n",
    "import warnings\n",
    "warnings.filterwarnings('ignore')\n",
    "\n",
    "from sklearn.preprocessing import StandardScaler \n",
    "from sklearn.model_selection import train_test_split \n",
    "from sklearn.linear_model import LinearRegression\n",
    "\n",
    "from sklearn.metrics import mean_squared_error\n",
    "from sklearn.metrics import r2_score\n",
    "from sklearn import metrics\n",
    "from sklearn.model_selection import cross_val_score\n",
    "\n",
    "\n",
    "\n"
   ]
  },
  {
   "cell_type": "code",
   "execution_count": 2,
   "metadata": {},
   "outputs": [],
   "source": [
    "# Import the file and create the dataset\n",
    "\n",
    "region1 = pd.read_csv('/datasets/geo_data_0.csv')\n",
    "region2 = pd.read_csv('/datasets/geo_data_1.csv')\n",
    "region3 = pd.read_csv('/datasets/geo_data_2.csv')\n",
    "\n",
    "df_all=[region1,region2,region3]\n"
   ]
  },
  {
   "cell_type": "markdown",
   "metadata": {},
   "source": [
    "#### Region 1"
   ]
  },
  {
   "cell_type": "code",
   "execution_count": 3,
   "metadata": {
    "scrolled": true
   },
   "outputs": [
    {
     "data": {
      "text/html": [
       "<div>\n",
       "<style scoped>\n",
       "    .dataframe tbody tr th:only-of-type {\n",
       "        vertical-align: middle;\n",
       "    }\n",
       "\n",
       "    .dataframe tbody tr th {\n",
       "        vertical-align: top;\n",
       "    }\n",
       "\n",
       "    .dataframe thead th {\n",
       "        text-align: right;\n",
       "    }\n",
       "</style>\n",
       "<table border=\"1\" class=\"dataframe\">\n",
       "  <thead>\n",
       "    <tr style=\"text-align: right;\">\n",
       "      <th></th>\n",
       "      <th>id</th>\n",
       "      <th>f0</th>\n",
       "      <th>f1</th>\n",
       "      <th>f2</th>\n",
       "      <th>product</th>\n",
       "    </tr>\n",
       "  </thead>\n",
       "  <tbody>\n",
       "    <tr>\n",
       "      <th>0</th>\n",
       "      <td>txEyH</td>\n",
       "      <td>0.705745</td>\n",
       "      <td>-0.497823</td>\n",
       "      <td>1.221170</td>\n",
       "      <td>105.280062</td>\n",
       "    </tr>\n",
       "    <tr>\n",
       "      <th>1</th>\n",
       "      <td>2acmU</td>\n",
       "      <td>1.334711</td>\n",
       "      <td>-0.340164</td>\n",
       "      <td>4.365080</td>\n",
       "      <td>73.037750</td>\n",
       "    </tr>\n",
       "    <tr>\n",
       "      <th>2</th>\n",
       "      <td>409Wp</td>\n",
       "      <td>1.022732</td>\n",
       "      <td>0.151990</td>\n",
       "      <td>1.419926</td>\n",
       "      <td>85.265647</td>\n",
       "    </tr>\n",
       "    <tr>\n",
       "      <th>3</th>\n",
       "      <td>iJLyR</td>\n",
       "      <td>-0.032172</td>\n",
       "      <td>0.139033</td>\n",
       "      <td>2.978566</td>\n",
       "      <td>168.620776</td>\n",
       "    </tr>\n",
       "    <tr>\n",
       "      <th>4</th>\n",
       "      <td>Xdl7t</td>\n",
       "      <td>1.988431</td>\n",
       "      <td>0.155413</td>\n",
       "      <td>4.751769</td>\n",
       "      <td>154.036647</td>\n",
       "    </tr>\n",
       "  </tbody>\n",
       "</table>\n",
       "</div>"
      ],
      "text/plain": [
       "      id        f0        f1        f2     product\n",
       "0  txEyH  0.705745 -0.497823  1.221170  105.280062\n",
       "1  2acmU  1.334711 -0.340164  4.365080   73.037750\n",
       "2  409Wp  1.022732  0.151990  1.419926   85.265647\n",
       "3  iJLyR -0.032172  0.139033  2.978566  168.620776\n",
       "4  Xdl7t  1.988431  0.155413  4.751769  154.036647"
      ]
     },
     "execution_count": 3,
     "metadata": {},
     "output_type": "execute_result"
    }
   ],
   "source": [
    "# Print sample of table\n",
    "\n",
    "region1.head()\n"
   ]
  },
  {
   "cell_type": "code",
   "execution_count": 4,
   "metadata": {},
   "outputs": [
    {
     "name": "stdout",
     "output_type": "stream",
     "text": [
      "<class 'pandas.core.frame.DataFrame'>\n",
      "RangeIndex: 100000 entries, 0 to 99999\n",
      "Data columns (total 5 columns):\n",
      " #   Column   Non-Null Count   Dtype  \n",
      "---  ------   --------------   -----  \n",
      " 0   id       100000 non-null  object \n",
      " 1   f0       100000 non-null  float64\n",
      " 2   f1       100000 non-null  float64\n",
      " 3   f2       100000 non-null  float64\n",
      " 4   product  100000 non-null  float64\n",
      "dtypes: float64(4), object(1)\n",
      "memory usage: 3.8+ MB\n"
     ]
    }
   ],
   "source": [
    "region1.info()"
   ]
  },
  {
   "cell_type": "code",
   "execution_count": 5,
   "metadata": {
    "scrolled": true
   },
   "outputs": [
    {
     "data": {
      "text/html": [
       "<div>\n",
       "<style scoped>\n",
       "    .dataframe tbody tr th:only-of-type {\n",
       "        vertical-align: middle;\n",
       "    }\n",
       "\n",
       "    .dataframe tbody tr th {\n",
       "        vertical-align: top;\n",
       "    }\n",
       "\n",
       "    .dataframe thead th {\n",
       "        text-align: right;\n",
       "    }\n",
       "</style>\n",
       "<table border=\"1\" class=\"dataframe\">\n",
       "  <thead>\n",
       "    <tr style=\"text-align: right;\">\n",
       "      <th></th>\n",
       "      <th>f0</th>\n",
       "      <th>f1</th>\n",
       "      <th>f2</th>\n",
       "      <th>product</th>\n",
       "    </tr>\n",
       "  </thead>\n",
       "  <tbody>\n",
       "    <tr>\n",
       "      <th>count</th>\n",
       "      <td>100000.000000</td>\n",
       "      <td>100000.000000</td>\n",
       "      <td>100000.000000</td>\n",
       "      <td>100000.000000</td>\n",
       "    </tr>\n",
       "    <tr>\n",
       "      <th>mean</th>\n",
       "      <td>0.500419</td>\n",
       "      <td>0.250143</td>\n",
       "      <td>2.502647</td>\n",
       "      <td>92.500000</td>\n",
       "    </tr>\n",
       "    <tr>\n",
       "      <th>std</th>\n",
       "      <td>0.871832</td>\n",
       "      <td>0.504433</td>\n",
       "      <td>3.248248</td>\n",
       "      <td>44.288691</td>\n",
       "    </tr>\n",
       "    <tr>\n",
       "      <th>min</th>\n",
       "      <td>-1.408605</td>\n",
       "      <td>-0.848218</td>\n",
       "      <td>-12.088328</td>\n",
       "      <td>0.000000</td>\n",
       "    </tr>\n",
       "    <tr>\n",
       "      <th>25%</th>\n",
       "      <td>-0.072580</td>\n",
       "      <td>-0.200881</td>\n",
       "      <td>0.287748</td>\n",
       "      <td>56.497507</td>\n",
       "    </tr>\n",
       "    <tr>\n",
       "      <th>50%</th>\n",
       "      <td>0.502360</td>\n",
       "      <td>0.250252</td>\n",
       "      <td>2.515969</td>\n",
       "      <td>91.849972</td>\n",
       "    </tr>\n",
       "    <tr>\n",
       "      <th>75%</th>\n",
       "      <td>1.073581</td>\n",
       "      <td>0.700646</td>\n",
       "      <td>4.715088</td>\n",
       "      <td>128.564089</td>\n",
       "    </tr>\n",
       "    <tr>\n",
       "      <th>max</th>\n",
       "      <td>2.362331</td>\n",
       "      <td>1.343769</td>\n",
       "      <td>16.003790</td>\n",
       "      <td>185.364347</td>\n",
       "    </tr>\n",
       "  </tbody>\n",
       "</table>\n",
       "</div>"
      ],
      "text/plain": [
       "                  f0             f1             f2        product\n",
       "count  100000.000000  100000.000000  100000.000000  100000.000000\n",
       "mean        0.500419       0.250143       2.502647      92.500000\n",
       "std         0.871832       0.504433       3.248248      44.288691\n",
       "min        -1.408605      -0.848218     -12.088328       0.000000\n",
       "25%        -0.072580      -0.200881       0.287748      56.497507\n",
       "50%         0.502360       0.250252       2.515969      91.849972\n",
       "75%         1.073581       0.700646       4.715088     128.564089\n",
       "max         2.362331       1.343769      16.003790     185.364347"
      ]
     },
     "execution_count": 5,
     "metadata": {},
     "output_type": "execute_result"
    }
   ],
   "source": [
    "# Descriptive statistics\n",
    "\n",
    "region1.describe()\n"
   ]
  },
  {
   "cell_type": "code",
   "execution_count": 6,
   "metadata": {},
   "outputs": [
    {
     "data": {
      "text/plain": [
       "id         0\n",
       "f0         0\n",
       "f1         0\n",
       "f2         0\n",
       "product    0\n",
       "dtype: int64"
      ]
     },
     "execution_count": 6,
     "metadata": {},
     "output_type": "execute_result"
    }
   ],
   "source": [
    "# Missing values\n",
    "\n",
    "region1.isna().sum()"
   ]
  },
  {
   "cell_type": "code",
   "execution_count": 7,
   "metadata": {},
   "outputs": [
    {
     "data": {
      "text/html": [
       "<div>\n",
       "<style scoped>\n",
       "    .dataframe tbody tr th:only-of-type {\n",
       "        vertical-align: middle;\n",
       "    }\n",
       "\n",
       "    .dataframe tbody tr th {\n",
       "        vertical-align: top;\n",
       "    }\n",
       "\n",
       "    .dataframe thead th {\n",
       "        text-align: right;\n",
       "    }\n",
       "</style>\n",
       "<table border=\"1\" class=\"dataframe\">\n",
       "  <thead>\n",
       "    <tr style=\"text-align: right;\">\n",
       "      <th></th>\n",
       "      <th>f0</th>\n",
       "      <th>f1</th>\n",
       "      <th>f2</th>\n",
       "      <th>product</th>\n",
       "    </tr>\n",
       "  </thead>\n",
       "  <tbody>\n",
       "    <tr>\n",
       "      <th>f0</th>\n",
       "      <td>1.000000</td>\n",
       "      <td>-0.440723</td>\n",
       "      <td>-0.003153</td>\n",
       "      <td>0.143536</td>\n",
       "    </tr>\n",
       "    <tr>\n",
       "      <th>f1</th>\n",
       "      <td>-0.440723</td>\n",
       "      <td>1.000000</td>\n",
       "      <td>0.001724</td>\n",
       "      <td>-0.192356</td>\n",
       "    </tr>\n",
       "    <tr>\n",
       "      <th>f2</th>\n",
       "      <td>-0.003153</td>\n",
       "      <td>0.001724</td>\n",
       "      <td>1.000000</td>\n",
       "      <td>0.483663</td>\n",
       "    </tr>\n",
       "    <tr>\n",
       "      <th>product</th>\n",
       "      <td>0.143536</td>\n",
       "      <td>-0.192356</td>\n",
       "      <td>0.483663</td>\n",
       "      <td>1.000000</td>\n",
       "    </tr>\n",
       "  </tbody>\n",
       "</table>\n",
       "</div>"
      ],
      "text/plain": [
       "               f0        f1        f2   product\n",
       "f0       1.000000 -0.440723 -0.003153  0.143536\n",
       "f1      -0.440723  1.000000  0.001724 -0.192356\n",
       "f2      -0.003153  0.001724  1.000000  0.483663\n",
       "product  0.143536 -0.192356  0.483663  1.000000"
      ]
     },
     "execution_count": 7,
     "metadata": {},
     "output_type": "execute_result"
    }
   ],
   "source": [
    "# Correlation between values\n",
    "\n",
    "region1.corr()"
   ]
  },
  {
   "cell_type": "markdown",
   "metadata": {},
   "source": [
    "#### Region 2"
   ]
  },
  {
   "cell_type": "code",
   "execution_count": 8,
   "metadata": {},
   "outputs": [
    {
     "data": {
      "text/html": [
       "<div>\n",
       "<style scoped>\n",
       "    .dataframe tbody tr th:only-of-type {\n",
       "        vertical-align: middle;\n",
       "    }\n",
       "\n",
       "    .dataframe tbody tr th {\n",
       "        vertical-align: top;\n",
       "    }\n",
       "\n",
       "    .dataframe thead th {\n",
       "        text-align: right;\n",
       "    }\n",
       "</style>\n",
       "<table border=\"1\" class=\"dataframe\">\n",
       "  <thead>\n",
       "    <tr style=\"text-align: right;\">\n",
       "      <th></th>\n",
       "      <th>id</th>\n",
       "      <th>f0</th>\n",
       "      <th>f1</th>\n",
       "      <th>f2</th>\n",
       "      <th>product</th>\n",
       "    </tr>\n",
       "  </thead>\n",
       "  <tbody>\n",
       "    <tr>\n",
       "      <th>0</th>\n",
       "      <td>kBEdx</td>\n",
       "      <td>-15.001348</td>\n",
       "      <td>-8.276000</td>\n",
       "      <td>-0.005876</td>\n",
       "      <td>3.179103</td>\n",
       "    </tr>\n",
       "    <tr>\n",
       "      <th>1</th>\n",
       "      <td>62mP7</td>\n",
       "      <td>14.272088</td>\n",
       "      <td>-3.475083</td>\n",
       "      <td>0.999183</td>\n",
       "      <td>26.953261</td>\n",
       "    </tr>\n",
       "    <tr>\n",
       "      <th>2</th>\n",
       "      <td>vyE1P</td>\n",
       "      <td>6.263187</td>\n",
       "      <td>-5.948386</td>\n",
       "      <td>5.001160</td>\n",
       "      <td>134.766305</td>\n",
       "    </tr>\n",
       "    <tr>\n",
       "      <th>3</th>\n",
       "      <td>KcrkZ</td>\n",
       "      <td>-13.081196</td>\n",
       "      <td>-11.506057</td>\n",
       "      <td>4.999415</td>\n",
       "      <td>137.945408</td>\n",
       "    </tr>\n",
       "    <tr>\n",
       "      <th>4</th>\n",
       "      <td>AHL4O</td>\n",
       "      <td>12.702195</td>\n",
       "      <td>-8.147433</td>\n",
       "      <td>5.004363</td>\n",
       "      <td>134.766305</td>\n",
       "    </tr>\n",
       "  </tbody>\n",
       "</table>\n",
       "</div>"
      ],
      "text/plain": [
       "      id         f0         f1        f2     product\n",
       "0  kBEdx -15.001348  -8.276000 -0.005876    3.179103\n",
       "1  62mP7  14.272088  -3.475083  0.999183   26.953261\n",
       "2  vyE1P   6.263187  -5.948386  5.001160  134.766305\n",
       "3  KcrkZ -13.081196 -11.506057  4.999415  137.945408\n",
       "4  AHL4O  12.702195  -8.147433  5.004363  134.766305"
      ]
     },
     "execution_count": 8,
     "metadata": {},
     "output_type": "execute_result"
    }
   ],
   "source": [
    "# Print sample of table\n",
    "\n",
    "region2.head()\n"
   ]
  },
  {
   "cell_type": "code",
   "execution_count": 9,
   "metadata": {},
   "outputs": [
    {
     "name": "stdout",
     "output_type": "stream",
     "text": [
      "<class 'pandas.core.frame.DataFrame'>\n",
      "RangeIndex: 100000 entries, 0 to 99999\n",
      "Data columns (total 5 columns):\n",
      " #   Column   Non-Null Count   Dtype  \n",
      "---  ------   --------------   -----  \n",
      " 0   id       100000 non-null  object \n",
      " 1   f0       100000 non-null  float64\n",
      " 2   f1       100000 non-null  float64\n",
      " 3   f2       100000 non-null  float64\n",
      " 4   product  100000 non-null  float64\n",
      "dtypes: float64(4), object(1)\n",
      "memory usage: 3.8+ MB\n"
     ]
    }
   ],
   "source": [
    "region2.info()\n"
   ]
  },
  {
   "cell_type": "code",
   "execution_count": 10,
   "metadata": {},
   "outputs": [
    {
     "data": {
      "text/html": [
       "<div>\n",
       "<style scoped>\n",
       "    .dataframe tbody tr th:only-of-type {\n",
       "        vertical-align: middle;\n",
       "    }\n",
       "\n",
       "    .dataframe tbody tr th {\n",
       "        vertical-align: top;\n",
       "    }\n",
       "\n",
       "    .dataframe thead th {\n",
       "        text-align: right;\n",
       "    }\n",
       "</style>\n",
       "<table border=\"1\" class=\"dataframe\">\n",
       "  <thead>\n",
       "    <tr style=\"text-align: right;\">\n",
       "      <th></th>\n",
       "      <th>f0</th>\n",
       "      <th>f1</th>\n",
       "      <th>f2</th>\n",
       "      <th>product</th>\n",
       "    </tr>\n",
       "  </thead>\n",
       "  <tbody>\n",
       "    <tr>\n",
       "      <th>count</th>\n",
       "      <td>100000.000000</td>\n",
       "      <td>100000.000000</td>\n",
       "      <td>100000.000000</td>\n",
       "      <td>100000.000000</td>\n",
       "    </tr>\n",
       "    <tr>\n",
       "      <th>mean</th>\n",
       "      <td>1.141296</td>\n",
       "      <td>-4.796579</td>\n",
       "      <td>2.494541</td>\n",
       "      <td>68.825000</td>\n",
       "    </tr>\n",
       "    <tr>\n",
       "      <th>std</th>\n",
       "      <td>8.965932</td>\n",
       "      <td>5.119872</td>\n",
       "      <td>1.703572</td>\n",
       "      <td>45.944423</td>\n",
       "    </tr>\n",
       "    <tr>\n",
       "      <th>min</th>\n",
       "      <td>-31.609576</td>\n",
       "      <td>-26.358598</td>\n",
       "      <td>-0.018144</td>\n",
       "      <td>0.000000</td>\n",
       "    </tr>\n",
       "    <tr>\n",
       "      <th>25%</th>\n",
       "      <td>-6.298551</td>\n",
       "      <td>-8.267985</td>\n",
       "      <td>1.000021</td>\n",
       "      <td>26.953261</td>\n",
       "    </tr>\n",
       "    <tr>\n",
       "      <th>50%</th>\n",
       "      <td>1.153055</td>\n",
       "      <td>-4.813172</td>\n",
       "      <td>2.011479</td>\n",
       "      <td>57.085625</td>\n",
       "    </tr>\n",
       "    <tr>\n",
       "      <th>75%</th>\n",
       "      <td>8.621015</td>\n",
       "      <td>-1.332816</td>\n",
       "      <td>3.999904</td>\n",
       "      <td>107.813044</td>\n",
       "    </tr>\n",
       "    <tr>\n",
       "      <th>max</th>\n",
       "      <td>29.421755</td>\n",
       "      <td>18.734063</td>\n",
       "      <td>5.019721</td>\n",
       "      <td>137.945408</td>\n",
       "    </tr>\n",
       "  </tbody>\n",
       "</table>\n",
       "</div>"
      ],
      "text/plain": [
       "                  f0             f1             f2        product\n",
       "count  100000.000000  100000.000000  100000.000000  100000.000000\n",
       "mean        1.141296      -4.796579       2.494541      68.825000\n",
       "std         8.965932       5.119872       1.703572      45.944423\n",
       "min       -31.609576     -26.358598      -0.018144       0.000000\n",
       "25%        -6.298551      -8.267985       1.000021      26.953261\n",
       "50%         1.153055      -4.813172       2.011479      57.085625\n",
       "75%         8.621015      -1.332816       3.999904     107.813044\n",
       "max        29.421755      18.734063       5.019721     137.945408"
      ]
     },
     "execution_count": 10,
     "metadata": {},
     "output_type": "execute_result"
    }
   ],
   "source": [
    "# Descriptive statistics\n",
    "\n",
    "region2.describe()\n"
   ]
  },
  {
   "cell_type": "code",
   "execution_count": 11,
   "metadata": {},
   "outputs": [
    {
     "data": {
      "text/html": [
       "<div>\n",
       "<style scoped>\n",
       "    .dataframe tbody tr th:only-of-type {\n",
       "        vertical-align: middle;\n",
       "    }\n",
       "\n",
       "    .dataframe tbody tr th {\n",
       "        vertical-align: top;\n",
       "    }\n",
       "\n",
       "    .dataframe thead th {\n",
       "        text-align: right;\n",
       "    }\n",
       "</style>\n",
       "<table border=\"1\" class=\"dataframe\">\n",
       "  <thead>\n",
       "    <tr style=\"text-align: right;\">\n",
       "      <th></th>\n",
       "      <th>f0</th>\n",
       "      <th>f1</th>\n",
       "      <th>f2</th>\n",
       "      <th>product</th>\n",
       "    </tr>\n",
       "  </thead>\n",
       "  <tbody>\n",
       "    <tr>\n",
       "      <th>f0</th>\n",
       "      <td>1.000000</td>\n",
       "      <td>0.182287</td>\n",
       "      <td>-0.001777</td>\n",
       "      <td>-0.030491</td>\n",
       "    </tr>\n",
       "    <tr>\n",
       "      <th>f1</th>\n",
       "      <td>0.182287</td>\n",
       "      <td>1.000000</td>\n",
       "      <td>-0.002595</td>\n",
       "      <td>-0.010155</td>\n",
       "    </tr>\n",
       "    <tr>\n",
       "      <th>f2</th>\n",
       "      <td>-0.001777</td>\n",
       "      <td>-0.002595</td>\n",
       "      <td>1.000000</td>\n",
       "      <td>0.999397</td>\n",
       "    </tr>\n",
       "    <tr>\n",
       "      <th>product</th>\n",
       "      <td>-0.030491</td>\n",
       "      <td>-0.010155</td>\n",
       "      <td>0.999397</td>\n",
       "      <td>1.000000</td>\n",
       "    </tr>\n",
       "  </tbody>\n",
       "</table>\n",
       "</div>"
      ],
      "text/plain": [
       "               f0        f1        f2   product\n",
       "f0       1.000000  0.182287 -0.001777 -0.030491\n",
       "f1       0.182287  1.000000 -0.002595 -0.010155\n",
       "f2      -0.001777 -0.002595  1.000000  0.999397\n",
       "product -0.030491 -0.010155  0.999397  1.000000"
      ]
     },
     "execution_count": 11,
     "metadata": {},
     "output_type": "execute_result"
    }
   ],
   "source": [
    "# Correlation between values\n",
    "\n",
    "region2.corr()"
   ]
  },
  {
   "cell_type": "markdown",
   "metadata": {},
   "source": [
    "#### Region 3"
   ]
  },
  {
   "cell_type": "code",
   "execution_count": 12,
   "metadata": {},
   "outputs": [
    {
     "data": {
      "text/html": [
       "<div>\n",
       "<style scoped>\n",
       "    .dataframe tbody tr th:only-of-type {\n",
       "        vertical-align: middle;\n",
       "    }\n",
       "\n",
       "    .dataframe tbody tr th {\n",
       "        vertical-align: top;\n",
       "    }\n",
       "\n",
       "    .dataframe thead th {\n",
       "        text-align: right;\n",
       "    }\n",
       "</style>\n",
       "<table border=\"1\" class=\"dataframe\">\n",
       "  <thead>\n",
       "    <tr style=\"text-align: right;\">\n",
       "      <th></th>\n",
       "      <th>id</th>\n",
       "      <th>f0</th>\n",
       "      <th>f1</th>\n",
       "      <th>f2</th>\n",
       "      <th>product</th>\n",
       "    </tr>\n",
       "  </thead>\n",
       "  <tbody>\n",
       "    <tr>\n",
       "      <th>0</th>\n",
       "      <td>fwXo0</td>\n",
       "      <td>-1.146987</td>\n",
       "      <td>0.963328</td>\n",
       "      <td>-0.828965</td>\n",
       "      <td>27.758673</td>\n",
       "    </tr>\n",
       "    <tr>\n",
       "      <th>1</th>\n",
       "      <td>WJtFt</td>\n",
       "      <td>0.262778</td>\n",
       "      <td>0.269839</td>\n",
       "      <td>-2.530187</td>\n",
       "      <td>56.069697</td>\n",
       "    </tr>\n",
       "    <tr>\n",
       "      <th>2</th>\n",
       "      <td>ovLUW</td>\n",
       "      <td>0.194587</td>\n",
       "      <td>0.289035</td>\n",
       "      <td>-5.586433</td>\n",
       "      <td>62.871910</td>\n",
       "    </tr>\n",
       "    <tr>\n",
       "      <th>3</th>\n",
       "      <td>q6cA6</td>\n",
       "      <td>2.236060</td>\n",
       "      <td>-0.553760</td>\n",
       "      <td>0.930038</td>\n",
       "      <td>114.572842</td>\n",
       "    </tr>\n",
       "    <tr>\n",
       "      <th>4</th>\n",
       "      <td>WPMUX</td>\n",
       "      <td>-0.515993</td>\n",
       "      <td>1.716266</td>\n",
       "      <td>5.899011</td>\n",
       "      <td>149.600746</td>\n",
       "    </tr>\n",
       "  </tbody>\n",
       "</table>\n",
       "</div>"
      ],
      "text/plain": [
       "      id        f0        f1        f2     product\n",
       "0  fwXo0 -1.146987  0.963328 -0.828965   27.758673\n",
       "1  WJtFt  0.262778  0.269839 -2.530187   56.069697\n",
       "2  ovLUW  0.194587  0.289035 -5.586433   62.871910\n",
       "3  q6cA6  2.236060 -0.553760  0.930038  114.572842\n",
       "4  WPMUX -0.515993  1.716266  5.899011  149.600746"
      ]
     },
     "execution_count": 12,
     "metadata": {},
     "output_type": "execute_result"
    }
   ],
   "source": [
    "# Print sample of table\n",
    " \n",
    "region3.head()"
   ]
  },
  {
   "cell_type": "code",
   "execution_count": 13,
   "metadata": {},
   "outputs": [
    {
     "name": "stdout",
     "output_type": "stream",
     "text": [
      "<class 'pandas.core.frame.DataFrame'>\n",
      "RangeIndex: 100000 entries, 0 to 99999\n",
      "Data columns (total 5 columns):\n",
      " #   Column   Non-Null Count   Dtype  \n",
      "---  ------   --------------   -----  \n",
      " 0   id       100000 non-null  object \n",
      " 1   f0       100000 non-null  float64\n",
      " 2   f1       100000 non-null  float64\n",
      " 3   f2       100000 non-null  float64\n",
      " 4   product  100000 non-null  float64\n",
      "dtypes: float64(4), object(1)\n",
      "memory usage: 3.8+ MB\n"
     ]
    }
   ],
   "source": [
    "region3.info()\n"
   ]
  },
  {
   "cell_type": "code",
   "execution_count": 14,
   "metadata": {
    "scrolled": true
   },
   "outputs": [
    {
     "data": {
      "text/html": [
       "<div>\n",
       "<style scoped>\n",
       "    .dataframe tbody tr th:only-of-type {\n",
       "        vertical-align: middle;\n",
       "    }\n",
       "\n",
       "    .dataframe tbody tr th {\n",
       "        vertical-align: top;\n",
       "    }\n",
       "\n",
       "    .dataframe thead th {\n",
       "        text-align: right;\n",
       "    }\n",
       "</style>\n",
       "<table border=\"1\" class=\"dataframe\">\n",
       "  <thead>\n",
       "    <tr style=\"text-align: right;\">\n",
       "      <th></th>\n",
       "      <th>f0</th>\n",
       "      <th>f1</th>\n",
       "      <th>f2</th>\n",
       "      <th>product</th>\n",
       "    </tr>\n",
       "  </thead>\n",
       "  <tbody>\n",
       "    <tr>\n",
       "      <th>count</th>\n",
       "      <td>100000.000000</td>\n",
       "      <td>100000.000000</td>\n",
       "      <td>100000.000000</td>\n",
       "      <td>100000.000000</td>\n",
       "    </tr>\n",
       "    <tr>\n",
       "      <th>mean</th>\n",
       "      <td>0.002023</td>\n",
       "      <td>-0.002081</td>\n",
       "      <td>2.495128</td>\n",
       "      <td>95.000000</td>\n",
       "    </tr>\n",
       "    <tr>\n",
       "      <th>std</th>\n",
       "      <td>1.732045</td>\n",
       "      <td>1.730417</td>\n",
       "      <td>3.473445</td>\n",
       "      <td>44.749921</td>\n",
       "    </tr>\n",
       "    <tr>\n",
       "      <th>min</th>\n",
       "      <td>-8.760004</td>\n",
       "      <td>-7.084020</td>\n",
       "      <td>-11.970335</td>\n",
       "      <td>0.000000</td>\n",
       "    </tr>\n",
       "    <tr>\n",
       "      <th>25%</th>\n",
       "      <td>-1.162288</td>\n",
       "      <td>-1.174820</td>\n",
       "      <td>0.130359</td>\n",
       "      <td>59.450441</td>\n",
       "    </tr>\n",
       "    <tr>\n",
       "      <th>50%</th>\n",
       "      <td>0.009424</td>\n",
       "      <td>-0.009482</td>\n",
       "      <td>2.484236</td>\n",
       "      <td>94.925613</td>\n",
       "    </tr>\n",
       "    <tr>\n",
       "      <th>75%</th>\n",
       "      <td>1.158535</td>\n",
       "      <td>1.163678</td>\n",
       "      <td>4.858794</td>\n",
       "      <td>130.595027</td>\n",
       "    </tr>\n",
       "    <tr>\n",
       "      <th>max</th>\n",
       "      <td>7.238262</td>\n",
       "      <td>7.844801</td>\n",
       "      <td>16.739402</td>\n",
       "      <td>190.029838</td>\n",
       "    </tr>\n",
       "  </tbody>\n",
       "</table>\n",
       "</div>"
      ],
      "text/plain": [
       "                  f0             f1             f2        product\n",
       "count  100000.000000  100000.000000  100000.000000  100000.000000\n",
       "mean        0.002023      -0.002081       2.495128      95.000000\n",
       "std         1.732045       1.730417       3.473445      44.749921\n",
       "min        -8.760004      -7.084020     -11.970335       0.000000\n",
       "25%        -1.162288      -1.174820       0.130359      59.450441\n",
       "50%         0.009424      -0.009482       2.484236      94.925613\n",
       "75%         1.158535       1.163678       4.858794     130.595027\n",
       "max         7.238262       7.844801      16.739402     190.029838"
      ]
     },
     "execution_count": 14,
     "metadata": {},
     "output_type": "execute_result"
    }
   ],
   "source": [
    "# Descriptive statistics\n",
    "\n",
    "region3.describe()\n"
   ]
  },
  {
   "cell_type": "code",
   "execution_count": 15,
   "metadata": {
    "scrolled": false
   },
   "outputs": [
    {
     "data": {
      "text/html": [
       "<div>\n",
       "<style scoped>\n",
       "    .dataframe tbody tr th:only-of-type {\n",
       "        vertical-align: middle;\n",
       "    }\n",
       "\n",
       "    .dataframe tbody tr th {\n",
       "        vertical-align: top;\n",
       "    }\n",
       "\n",
       "    .dataframe thead th {\n",
       "        text-align: right;\n",
       "    }\n",
       "</style>\n",
       "<table border=\"1\" class=\"dataframe\">\n",
       "  <thead>\n",
       "    <tr style=\"text-align: right;\">\n",
       "      <th></th>\n",
       "      <th>f0</th>\n",
       "      <th>f1</th>\n",
       "      <th>f2</th>\n",
       "      <th>product</th>\n",
       "    </tr>\n",
       "  </thead>\n",
       "  <tbody>\n",
       "    <tr>\n",
       "      <th>f0</th>\n",
       "      <td>1.000000</td>\n",
       "      <td>0.000528</td>\n",
       "      <td>-0.000448</td>\n",
       "      <td>-0.001987</td>\n",
       "    </tr>\n",
       "    <tr>\n",
       "      <th>f1</th>\n",
       "      <td>0.000528</td>\n",
       "      <td>1.000000</td>\n",
       "      <td>0.000779</td>\n",
       "      <td>-0.001012</td>\n",
       "    </tr>\n",
       "    <tr>\n",
       "      <th>f2</th>\n",
       "      <td>-0.000448</td>\n",
       "      <td>0.000779</td>\n",
       "      <td>1.000000</td>\n",
       "      <td>0.445871</td>\n",
       "    </tr>\n",
       "    <tr>\n",
       "      <th>product</th>\n",
       "      <td>-0.001987</td>\n",
       "      <td>-0.001012</td>\n",
       "      <td>0.445871</td>\n",
       "      <td>1.000000</td>\n",
       "    </tr>\n",
       "  </tbody>\n",
       "</table>\n",
       "</div>"
      ],
      "text/plain": [
       "               f0        f1        f2   product\n",
       "f0       1.000000  0.000528 -0.000448 -0.001987\n",
       "f1       0.000528  1.000000  0.000779 -0.001012\n",
       "f2      -0.000448  0.000779  1.000000  0.445871\n",
       "product -0.001987 -0.001012  0.445871  1.000000"
      ]
     },
     "execution_count": 15,
     "metadata": {},
     "output_type": "execute_result"
    }
   ],
   "source": [
    "# Correlation between values\n",
    "\n",
    "region3.corr()"
   ]
  },
  {
   "cell_type": "markdown",
   "metadata": {},
   "source": [
    "#### Conclusion\n",
    "\n",
    "The only data I see problematic is the IDs are mixed case. However that shouldn't impact my analysis. Hence I leave it as is. We may remove these IDs since they don't serve any purpose in analysis.\n"
   ]
  },
  {
   "cell_type": "markdown",
   "metadata": {},
   "source": [
    "## Exploratory Data Analysis"
   ]
  },
  {
   "cell_type": "code",
   "execution_count": 16,
   "metadata": {
    "scrolled": false
   },
   "outputs": [
    {
     "data": {
      "text/plain": [
       "<AxesSubplot:>"
      ]
     },
     "metadata": {},
     "output_type": "display_data"
    },
    {
     "data": {
      "image/png": "[encoded data removed]",
      "text/plain": [
       "<Figure size 432x288 with 2 Axes>"
      ]
     },
     "metadata": {
      "needs_background": "light"
     },
     "output_type": "display_data"
    },
    {
     "data": {
      "text/plain": [
       "<AxesSubplot:>"
      ]
     },
     "metadata": {},
     "output_type": "display_data"
    },
    {
     "data": {
      "image/png": "[encoded data removed]",
      "text/plain": [
       "<Figure size 432x288 with 2 Axes>"
      ]
     },
     "metadata": {
      "needs_background": "light"
     },
     "output_type": "display_data"
    },
    {
     "data": {
      "text/plain": [
       "<AxesSubplot:>"
      ]
     },
     "metadata": {},
     "output_type": "display_data"
    },
    {
     "data": {
      "image/png": "[encoded data removed]",
      "text/plain": [
       "<Figure size 432x288 with 2 Axes>"
      ]
     },
     "metadata": {
      "needs_background": "light"
     },
     "output_type": "display_data"
    }
   ],
   "source": [
    "# Heatmap\n",
    "for df in df_all:\n",
    "    heatmap = display(sns.heatmap(df.corr()[['product']].sort_values(by='product', ascending=False), vmin=-1, vmax=1, annot=True, cmap='BrBG'))\n",
    "    plt.show()"
   ]
  },
  {
   "cell_type": "code",
   "execution_count": 17,
   "metadata": {
    "scrolled": false
   },
   "outputs": [
    {
     "data": {
      "image/png": "[encoded data removed]",
      "text/plain": [
       "<Figure size 720x288 with 1 Axes>"
      ]
     },
     "metadata": {
      "needs_background": "light"
     },
     "output_type": "display_data"
    },
    {
     "data": {
      "image/png": "[encoded data removed]",
      "text/plain": [
       "<Figure size 720x288 with 1 Axes>"
      ]
     },
     "metadata": {
      "needs_background": "light"
     },
     "output_type": "display_data"
    },
    {
     "data": {
      "image/png": "[encoded data removed]",
      "text/plain": [
       "<Figure size 720x288 with 1 Axes>"
      ]
     },
     "metadata": {
      "needs_background": "light"
     },
     "output_type": "display_data"
    }
   ],
   "source": [
    "for df in df_all:\n",
    "  plt.figure(figsize=(10,4))\n",
    "  df.corr()['product'].sort_values(ascending = False).plot(kind='bar')\n",
    "  plt.show()"
   ]
  },
  {
   "cell_type": "markdown",
   "metadata": {},
   "source": [
    "#### Conclusion\n",
    "- The heatmap depicts that product has strong positive correlation with f2.\n",
    "- It has weaker or negative correlation with f0.\n",
    "- product has negative correlation with f1\n",
    "- The BAR Chart also displays that\n",
    "    - f2 has high correlation with product\n",
    "    - f0 has a bit weaker or negative correlation \n",
    "    - f1 has negative correlation with product."
   ]
  },
  {
   "cell_type": "markdown",
   "metadata": {},
   "source": [
    "## Machine Learning"
   ]
  },
  {
   "cell_type": "markdown",
   "metadata": {},
   "source": [
    "### Feature Engineering & Model Testing\n",
    "\n",
    "Train and test the model for each region:\n",
    "- 2.1. Split the data into a training set and validation set at a ratio of 75:25.\n",
    "- 2.2. Train the model and make predictions for the validation set.\n",
    "- 2.3. Save the predictions and correct answers for the validation set.\n",
    "- 2.4. Print the average volume of predicted reserves and model RMSE.\n",
    "- 2.5. Analyze the results.\n"
   ]
  },
  {
   "cell_type": "code",
   "execution_count": 18,
   "metadata": {},
   "outputs": [
    {
     "data": {
      "text/plain": [
       "(100000, 5)"
      ]
     },
     "metadata": {},
     "output_type": "display_data"
    },
    {
     "data": {
      "text/plain": [
       "(100000, 5)"
      ]
     },
     "metadata": {},
     "output_type": "display_data"
    },
    {
     "data": {
      "text/plain": [
       "(100000, 5)"
      ]
     },
     "metadata": {},
     "output_type": "display_data"
    },
    {
     "data": {
      "text/plain": [
       "(100000, 4)"
      ]
     },
     "metadata": {},
     "output_type": "display_data"
    },
    {
     "data": {
      "text/plain": [
       "(100000, 4)"
      ]
     },
     "metadata": {},
     "output_type": "display_data"
    },
    {
     "data": {
      "text/plain": [
       "(100000, 4)"
      ]
     },
     "metadata": {},
     "output_type": "display_data"
    }
   ],
   "source": [
    "# Dropping id column which will have no use in the Machine Learning\n",
    "i=0\n",
    "for df in df_all:\n",
    "    display(df.shape)\n",
    "    df_all[i]=df.drop(['id'],axis=1)\n",
    "    i+=1\n",
    "\n",
    "for df in df_all:\n",
    "    display(df.shape)"
   ]
  },
  {
   "cell_type": "code",
   "execution_count": 19,
   "metadata": {
    "scrolled": true
   },
   "outputs": [
    {
     "name": "stdout",
     "output_type": "stream",
     "text": [
      "training set  : 75% (75000, 3) , training target   : (75000,)\n",
      "validation set: 25% (25000, 3) , validation target : (25000,)\n",
      "Average Volume: 92.59 RMSE: 37.58\n",
      "\n",
      "training set  : 75% (75000, 3) , training target   : (75000,)\n",
      "validation set: 25% (25000, 3) , validation target : (25000,)\n",
      "Average Volume: 68.73 RMSE: 0.89\n",
      "\n",
      "training set  : 75% (75000, 3) , training target   : (75000,)\n",
      "validation set: 25% (25000, 3) , validation target : (25000,)\n",
      "Average Volume: 94.97 RMSE: 40.03\n",
      "\n"
     ]
    }
   ],
   "source": [
    "# Function for Linear Regression model for all 3 datasets\n",
    "  \n",
    "RANDOM_STATE=12345\n",
    "\n",
    "for df in df_all:\n",
    "    def LinearRegressionModel(df):\n",
    "        target = df['product']\n",
    "        features = df.drop(['product'] , axis=1)\n",
    "\n",
    "    # FIRST SPLIT INTO TRAINING(75%) AND VALIDATION_TEST (25%)\n",
    "        features_train, features_valid, target_train, target_valid = train_test_split(\n",
    "        features, target, test_size=0.25, random_state=RANDOM_STATE)\n",
    "\n",
    "        totsize = len(df)\n",
    "        print('training set  : {0:.0%}'.format(len(features_train) /totsize),features_train.shape, ', training target   :',target_train.shape)\n",
    "        print('validation set: {0:.0%}'.format(len(features_valid)/totsize),features_valid.shape,', validation target :',target_valid.shape)\n",
    "\n",
    "\n",
    "    # Standardize the numerical features.\n",
    "        \n",
    "\n",
    "        numeric = ['f0', 'f1', 'f2']\n",
    "        scaler = StandardScaler()\n",
    "    \n",
    "    # < transform feature set >\n",
    "        scaler.fit(features_train[numeric])\n",
    "        features_train.loc[:,numeric] = scaler.transform(features_train[numeric])\n",
    "\n",
    "    # < transform validation set >\n",
    "        features_valid.loc[:,numeric] = scaler.transform(features_valid[numeric])\n",
    "    # display(features_valid.head(5),features_train.head(5))\n",
    "        model = LinearRegression() \n",
    "        model.fit(features_train, target_train)\n",
    "\n",
    "        predicted_valid = model.predict(features_valid)\n",
    "        mean = predicted_valid.mean()\n",
    "        mse = mean_squared_error(target_valid, predicted_valid)\n",
    "        rmse = mse**0.5\n",
    "        print(\"Average Volume: {:.2f} RMSE: {:.2f}\".format(mean,rmse))\n",
    "        print()\n",
    "        # return(target,features)\n",
    "    LinearRegressionModel(df)\n",
    "\n",
    "    \n",
    "        \n",
    "\n",
    "    \n",
    "    #LinearRegressionModel(df)\n",
    "        \n",
    "\n",
    "\n",
    "    \n",
    "\n",
    "    "
   ]
  },
  {
   "cell_type": "markdown",
   "metadata": {},
   "source": [
    "In the beginning of this step I splitted the three dataframe with a rateo of 75:25, defining wich are the features and the target. \n",
    "\n",
    "- Obtained for \"Region 1\" an rmse of 37.58, and an average volume of 92.59. \n",
    "- Obtained for \"Region 2\" an rmse of 0.89 and the average volume of 68.73. \n",
    "- Obtained for \"Geographic Area 2\" an rmse of 40.03 and an average volume of 94.97. "
   ]
  },
  {
   "cell_type": "markdown",
   "metadata": {},
   "source": [
    "###  Profit calculation:\n",
    "- 3.1. Store all key values for calculations in separate variables.\n",
    "- 3.2. Calculate the volume of reserves sufficient for developing a new well without losses. Compare the obtained value with the average volume of reserves in each region.\n",
    "- 3.3. Provide the findings about the preparation for profit calculation step."
   ]
  },
  {
   "cell_type": "code",
   "execution_count": 20,
   "metadata": {},
   "outputs": [],
   "source": [
    "# Storing useful variables\n",
    "\n",
    "N_POINTS_ALL = 500\n",
    "N_POINTS = 200\n",
    "BUDGET = 100000000 #for 200\n",
    "INCOME_PER_VOLUME = 4500\n",
    "THRES_RISK_MASK = 2.5/100\n",
    "BUDGET_PER_ONE = BUDGET/N_POINTS\n",
    "UNIT_OF_VOLUME = 1000 #Barrels\n",
    "\n",
    "region1avgvol = 92.59\n",
    "region2avgvol = 68.73\n",
    "region3avgvol = 94.97\n"
   ]
  },
  {
   "cell_type": "code",
   "execution_count": 21,
   "metadata": {},
   "outputs": [
    {
     "name": "stdout",
     "output_type": "stream",
     "text": [
      "To reach our Budget we need 22222.22 product units in the entire region.\n",
      "The volume of reserves sufficient for developing a new well without losses = 111.11\n"
     ]
    }
   ],
   "source": [
    "# Product units needed to reach our budget in the region.\n",
    "units_per_region = BUDGET / INCOME_PER_VOLUME \n",
    "print('To reach our Budget we need {:.2f}'.format(units_per_region),'product units in the entire region.')\n",
    "\n",
    "#Product units needed to reach our budget in a single well.\n",
    "units_per_well = units_per_region / 200\n",
    "\n",
    "print(f\"The volume of reserves sufficient for developing a new well without losses = {units_per_well:.2f}\")\n"
   ]
  },
  {
   "cell_type": "code",
   "execution_count": 22,
   "metadata": {},
   "outputs": [
    {
     "name": "stdout",
     "output_type": "stream",
     "text": [
      "-18.52111111111111 \n",
      " -42.38111111111111 \n",
      " -16.141111111111115\n"
     ]
    }
   ],
   "source": [
    "\n",
    "#Comparing the result with the averages.\n",
    "\n",
    "result_0 = region1avgvol - units_per_well\n",
    "result_1 = region2avgvol - units_per_well\n",
    "result_2 = region3avgvol - units_per_well\n",
    "\n",
    "print(result_0,'\\n',result_1,'\\n',result_2)\n"
   ]
  },
  {
   "cell_type": "markdown",
   "metadata": {},
   "source": [
    "Stored all the values necessaries to condupt the analysis and calculate the revenue. To reach 100 Million dollars necessaries for 200 oil wells are needed: 22.22 Million barrels. This make a total of 22222.22 product units needed and 111.11 for each wells.\n",
    "\n"
   ]
  },
  {
   "cell_type": "markdown",
   "metadata": {},
   "source": [
    "### Profit Function\n",
    "Write a function to calculate profit from a set of selected oil wells and model predictions:\n",
    "- 4.1. Pick the wells with the highest values of predictions.\n",
    "- 4.2. Summarize the target volume of reserves in accordance with these predictions\n",
    "- 4.3. Provide findings: suggest a region for oil wells' development and justify the choice. Calculate the profit for the obtained volume of reserves."
   ]
  },
  {
   "cell_type": "code",
   "execution_count": 26,
   "metadata": {},
   "outputs": [
    {
     "name": "stdout",
     "output_type": "stream",
     "text": [
      "[33.208260431398514, 24.150866966815116, 27.103499635998322]\n"
     ]
    }
   ],
   "source": [
    "# Profit function for all 3 regions\n",
    "\n",
    "profit_in_millions = []\n",
    "\n",
    "for df in df_all:\n",
    "    def profits(df):\n",
    "        target = df['product']\n",
    "        features = df.drop(['product'] , axis=1)\n",
    "\n",
    "    # FIRST SPLIT INTO TRAINING(75%) AND VALIDATION_TEST (25%)\n",
    "        features_train, features_valid, target_train, target_valid = train_test_split(\n",
    "        features, target, test_size=0.25, random_state=RANDOM_STATE)\n",
    "\n",
    "        \n",
    "    # Standardize the numerical features.\n",
    "        \n",
    "\n",
    "        numeric = ['f0', 'f1', 'f2']\n",
    "        scaler = StandardScaler()\n",
    "    \n",
    "    # < transform feature set >\n",
    "        scaler.fit(features_train[numeric])\n",
    "        features_train.loc[:,numeric] = scaler.transform(features_train[numeric])\n",
    "\n",
    "    # < transform validation set >\n",
    "        features_valid.loc[:,numeric] = scaler.transform(features_valid[numeric])\n",
    "    # display(features_valid.head(5),features_train.head(5))\n",
    "        model = LinearRegression() \n",
    "        model.fit(features_train, target_train)\n",
    "        predicted_valid = model.predict(features_valid)\n",
    "        predictions_sorted = pd.Series(predicted_valid, target_valid.index).sort_values(ascending=False)\n",
    "        top_target = target_valid.loc[predictions_sorted.index][:N_POINTS]\n",
    "        profit = (((top_target.sum() * INCOME_PER_VOLUME) - BUDGET) / 1000000)\n",
    "        return profit\n",
    "    arr = profits(df)\n",
    "    profit_in_millions.append(arr)   \n",
    "\n",
    "print(profit_in_millions)"
   ]
  },
  {
   "cell_type": "markdown",
   "metadata": {},
   "source": [
    "### Bootstrapping\n",
    "\n",
    "Calculate risks and profit for each region:\n",
    "- 5.1. Use the bootstrapping technique with 1000 samples to find the distribution of profit.\n",
    "- 5.2. Find average profit, 95% confidence interval and risk of losses. Loss is negative profit, calculate it as a probability and then express as a percentage.\n",
    "- 5.3. Provide findings: suggest a region for development of oil wells and justify the choice.\n",
    "\n"
   ]
  },
  {
   "cell_type": "code",
   "execution_count": 27,
   "metadata": {},
   "outputs": [],
   "source": [
    "# Region 1\n",
    "reg1_features = region1.drop(['product','id'],axis=1)\n",
    "reg1_target = region1['product']\n",
    "\n",
    "features_train_1, features_valid_1, target_train_1, target_valid_1 = train_test_split(reg1_features, reg1_target, test_size=0.25, random_state=12345)\n",
    "numeric = ['f0', 'f1', 'f2']\n",
    "scaler = StandardScaler()\n",
    "    \n",
    "    # < transform feature set >\n",
    "scaler.fit(features_train_1[numeric])\n",
    "features_train_1.loc[:,numeric] = scaler.transform(features_train_1[numeric])\n",
    "\n",
    "    # < transform validation set >\n",
    "features_valid_1.loc[:,numeric] = scaler.transform(features_valid_1[numeric])\n",
    "    # display(features_valid.head(5),features_train.head(5))\n",
    "    \n",
    "model_1 = LinearRegression()\n",
    "model_1.fit(features_train_1, target_train_1) # < train the model >\n",
    "predictions_valid_1 = model_1.predict(features_valid_1) \n",
    "\n",
    "\n"
   ]
  },
  {
   "cell_type": "code",
   "execution_count": 28,
   "metadata": {},
   "outputs": [],
   "source": [
    "# Region 2\n",
    "reg2_features = region2.drop(['product','id'],axis=1)\n",
    "reg2_target = region2['product']\n",
    "\n",
    "features_train_2, features_valid_2, target_train_2, target_valid_2 = train_test_split(reg2_features, reg2_target, test_size=0.25, random_state=12345)\n",
    "numeric = ['f0', 'f1', 'f2']\n",
    "scaler = StandardScaler()\n",
    "    \n",
    "    # < transform feature set >\n",
    "scaler.fit(features_train_2[numeric])\n",
    "features_train_2.loc[:,numeric] = scaler.transform(features_train_2[numeric])\n",
    "\n",
    "    # < transform validation set >\n",
    "features_valid_2.loc[:,numeric] = scaler.transform(features_valid_2[numeric])\n",
    "    # display(features_valid.head(5),features_train.head(5))\n",
    "    \n",
    "model_2 = LinearRegression()\n",
    "model_2.fit(features_train_2, target_train_2) # < train the model >\n",
    "predictions_valid_2 = model_2.predict(features_valid_2) \n"
   ]
  },
  {
   "cell_type": "code",
   "execution_count": 29,
   "metadata": {},
   "outputs": [],
   "source": [
    "# Reg 3\n",
    "reg3_features = region3.drop(['product','id'],axis=1)\n",
    "reg3_target = region3['product']\n",
    "\n",
    "features_train_3, features_valid_3, target_train_3, target_valid_3 = train_test_split(reg3_features, reg3_target, test_size=0.25, random_state=12345)\n",
    "numeric = ['f0', 'f1', 'f2']\n",
    "scaler = StandardScaler()\n",
    "    \n",
    "    # < transform feature set >\n",
    "scaler.fit(features_train_3[numeric])\n",
    "features_train_3.loc[:,numeric] = scaler.transform(features_train_3[numeric])\n",
    "\n",
    "    # < transform validation set >\n",
    "features_valid_3.loc[:,numeric] = scaler.transform(features_valid_3[numeric])\n",
    "    # display(features_valid.head(5),features_train.head(5))\n",
    "    \n",
    "model_3 = LinearRegression()\n",
    "model_3.fit(features_train_3, target_train_3) # < train the model >\n",
    "predictions_valid_3 = model_3.predict(features_valid_3) \n"
   ]
  },
  {
   "cell_type": "code",
   "execution_count": 30,
   "metadata": {},
   "outputs": [],
   "source": [
    "# Profit function\n",
    "def profit(region, predictions):\n",
    "    predictions_sorted = pd.Series(predictions, region.index).sort_values(ascending=False)\n",
    "    top_target = region.loc[predictions_sorted.index][:N_POINTS]\n",
    "    profit = (((top_target.sum() * INCOME_PER_VOLUME) - BUDGET) / 1000000)\n",
    "    return profit"
   ]
  },
  {
   "cell_type": "code",
   "execution_count": 31,
   "metadata": {},
   "outputs": [],
   "source": [
    "# Bootstrap function\n",
    "def bootstrap(target, predictions):\n",
    "    state = np.random.RandomState(12345)\n",
    "    # Store the 95% quantile values to the values variable. \n",
    "    #Since we are interested into 95% quantile, looking for values among 2.5% and 97.5%.\n",
    "    profit_list = []\n",
    "    target_valid = target.reset_index(drop=True)\n",
    "    for i in range(1000):\n",
    "        target_subsample = target_valid.sample(n=500, replace=True, random_state=state)\n",
    "        predictions_subsample = predictions[target_subsample.index]\n",
    "        profit_list.append(profit(target_subsample, predictions_subsample)) \n",
    "    profit_list = pd.Series(profit_list)\n",
    "    lower = profit_list.quantile(0.025)\n",
    "    upper = profit_list.quantile(0.975)\n",
    "    risk = len(profit_list[profit_list < 0]) / len(profit_list) * 100\n",
    "    print('The distribution of product volume is included in a range among {:.2f}'.format(lower),'and {:.2f}'.format(upper), 'units.')\n",
    "    print('The risk percentage is:', risk,'%')\n",
    "    print('The average profit for this region is: {:.2f} USD millions'.format(profit_list.mean()))"
   ]
  },
  {
   "cell_type": "code",
   "execution_count": 32,
   "metadata": {},
   "outputs": [
    {
     "name": "stdout",
     "output_type": "stream",
     "text": [
      "The distribution of product volume is included in a range among -1.02 and 9.48 units.\n",
      "The risk percentage is: 6.0 %\n",
      "The average profit for this region is: 4.26 USD millions\n"
     ]
    }
   ],
   "source": [
    "# Region 1 bootstrap\n",
    "bootstrap(target_valid_1,predictions_valid_1)"
   ]
  },
  {
   "cell_type": "code",
   "execution_count": 33,
   "metadata": {},
   "outputs": [
    {
     "name": "stdout",
     "output_type": "stream",
     "text": [
      "The distribution of product volume is included in a range among 0.69 and 9.32 units.\n",
      "The risk percentage is: 1.0 %\n",
      "The average profit for this region is: 5.15 USD millions\n"
     ]
    }
   ],
   "source": [
    "# Region 2 bootstrap\n",
    "bootstrap(target_valid_2,predictions_valid_2)"
   ]
  },
  {
   "cell_type": "code",
   "execution_count": 34,
   "metadata": {
    "scrolled": false
   },
   "outputs": [
    {
     "name": "stdout",
     "output_type": "stream",
     "text": [
      "The distribution of product volume is included in a range among -1.29 and 9.70 units.\n",
      "The risk percentage is: 6.4 %\n",
      "The average profit for this region is: 4.35 USD millions\n"
     ]
    }
   ],
   "source": [
    "# Region 3 boostrap\n",
    "bootstrap(target_valid_3,predictions_valid_3)"
   ]
  },
  {
   "cell_type": "markdown",
   "metadata": {},
   "source": [
    "## Conclusion"
   ]
  },
  {
   "cell_type": "markdown",
   "metadata": {},
   "source": [
    "The number of barrels needed to reach 100 Million (our budget), resulted in 22.22 Million  barrels. This make a total of 22222.22 product units needed and 111.11 for each well.\n",
    "\n",
    "According to the results of the analysis, Region 2 is the most profitable region with an average profit of 5.15 million, the highest confidence interval, lowest RMSE, and a risk percentage of only around 1%.\n",
    "\n"
   ]
  }
 ],
 "metadata": {
  "ExecuteTimeLog": [
   {
    "duration": 1359,
    "start_time": "2022-06-28T22:15:36.548Z"
   },
   {
    "duration": 457,
    "start_time": "2022-06-28T22:15:37.909Z"
   },
   {
    "duration": 475,
    "start_time": "2022-06-28T22:15:47.125Z"
   },
   {
    "duration": 13,
    "start_time": "2022-06-28T22:15:54.579Z"
   },
   {
    "duration": 3,
    "start_time": "2022-06-29T04:26:28.857Z"
   },
   {
    "duration": 11,
    "start_time": "2022-06-29T04:26:35.154Z"
   },
   {
    "duration": 9,
    "start_time": "2022-06-29T04:26:50.852Z"
   },
   {
    "duration": 8,
    "start_time": "2022-06-29T04:27:07.668Z"
   },
   {
    "duration": 2,
    "start_time": "2022-06-29T04:28:28.762Z"
   },
   {
    "duration": 7,
    "start_time": "2022-06-29T04:28:31.599Z"
   },
   {
    "duration": 14,
    "start_time": "2022-06-29T04:31:11.508Z"
   },
   {
    "duration": 14,
    "start_time": "2022-06-29T04:31:17.060Z"
   },
   {
    "duration": 14,
    "start_time": "2022-06-29T04:31:22.163Z"
   },
   {
    "duration": 7,
    "start_time": "2022-06-29T05:11:54.670Z"
   },
   {
    "duration": 338,
    "start_time": "2022-06-29T05:11:56.479Z"
   },
   {
    "duration": 10,
    "start_time": "2022-06-29T05:11:57.533Z"
   },
   {
    "duration": 14,
    "start_time": "2022-06-29T05:11:59.085Z"
   },
   {
    "duration": 36,
    "start_time": "2022-06-29T05:12:08.312Z"
   },
   {
    "duration": 9,
    "start_time": "2022-06-29T05:13:30.545Z"
   },
   {
    "duration": 14,
    "start_time": "2022-06-29T05:13:39.225Z"
   },
   {
    "duration": 13,
    "start_time": "2022-06-29T05:13:41.182Z"
   },
   {
    "duration": 36,
    "start_time": "2022-06-29T05:13:48.183Z"
   },
   {
    "duration": 9,
    "start_time": "2022-06-29T05:14:03.791Z"
   },
   {
    "duration": 15,
    "start_time": "2022-06-29T05:14:06.122Z"
   },
   {
    "duration": 36,
    "start_time": "2022-06-29T05:14:08.673Z"
   },
   {
    "duration": 49,
    "start_time": "2022-06-29T14:28:03.993Z"
   },
   {
    "duration": 1350,
    "start_time": "2022-06-29T14:28:12.801Z"
   },
   {
    "duration": 825,
    "start_time": "2022-06-29T14:28:14.154Z"
   },
   {
    "duration": 12,
    "start_time": "2022-06-29T14:28:14.981Z"
   },
   {
    "duration": 20,
    "start_time": "2022-06-29T14:28:14.995Z"
   },
   {
    "duration": 38,
    "start_time": "2022-06-29T14:28:15.016Z"
   },
   {
    "duration": 8,
    "start_time": "2022-06-29T14:28:15.055Z"
   },
   {
    "duration": 17,
    "start_time": "2022-06-29T14:28:15.065Z"
   },
   {
    "duration": 53,
    "start_time": "2022-06-29T14:28:15.084Z"
   },
   {
    "duration": 9,
    "start_time": "2022-06-29T14:28:15.138Z"
   },
   {
    "duration": 16,
    "start_time": "2022-06-29T14:28:15.150Z"
   },
   {
    "duration": 19,
    "start_time": "2022-06-29T14:28:17.291Z"
   },
   {
    "duration": 14,
    "start_time": "2022-06-29T14:28:30.104Z"
   },
   {
    "duration": 15,
    "start_time": "2022-06-29T14:29:39.161Z"
   },
   {
    "duration": 23655,
    "start_time": "2022-06-29T14:33:05.125Z"
   },
   {
    "duration": 1681,
    "start_time": "2022-06-29T14:52:42.749Z"
   },
   {
    "duration": 10,
    "start_time": "2022-06-29T14:52:54.928Z"
   },
   {
    "duration": 8993,
    "start_time": "2022-06-29T14:53:04.758Z"
   },
   {
    "duration": 9072,
    "start_time": "2022-06-29T14:53:16.367Z"
   },
   {
    "duration": 3485,
    "start_time": "2022-06-29T14:53:36.909Z"
   },
   {
    "duration": 45,
    "start_time": "2022-06-29T19:28:16.989Z"
   },
   {
    "duration": 1248,
    "start_time": "2022-06-29T19:28:19.123Z"
   },
   {
    "duration": 3,
    "start_time": "2022-06-29T19:28:21.926Z"
   },
   {
    "duration": 827,
    "start_time": "2022-06-29T19:28:21.931Z"
   },
   {
    "duration": 15,
    "start_time": "2022-06-29T19:28:22.759Z"
   },
   {
    "duration": 15,
    "start_time": "2022-06-29T19:28:22.776Z"
   },
   {
    "duration": 35,
    "start_time": "2022-06-29T19:28:22.793Z"
   },
   {
    "duration": 34,
    "start_time": "2022-06-29T19:28:22.830Z"
   },
   {
    "duration": 9,
    "start_time": "2022-06-29T19:28:22.866Z"
   },
   {
    "duration": 16,
    "start_time": "2022-06-29T19:28:22.877Z"
   },
   {
    "duration": 66,
    "start_time": "2022-06-29T19:28:22.897Z"
   },
   {
    "duration": 18,
    "start_time": "2022-06-29T19:28:22.965Z"
   },
   {
    "duration": 21,
    "start_time": "2022-06-29T19:28:22.985Z"
   },
   {
    "duration": 37,
    "start_time": "2022-06-29T19:28:23.009Z"
   },
   {
    "duration": 46,
    "start_time": "2022-06-29T19:28:23.049Z"
   },
   {
    "duration": 14,
    "start_time": "2022-06-29T19:28:23.096Z"
   },
   {
    "duration": 3133,
    "start_time": "2022-06-29T19:28:23.112Z"
   },
   {
    "duration": 3165,
    "start_time": "2022-06-29T19:28:33.575Z"
   },
   {
    "duration": 171,
    "start_time": "2022-06-29T19:28:41.517Z"
   },
   {
    "duration": 166,
    "start_time": "2022-06-29T19:28:51.229Z"
   },
   {
    "duration": 846,
    "start_time": "2022-06-29T19:29:38.779Z"
   },
   {
    "duration": 409,
    "start_time": "2022-06-29T19:30:20.679Z"
   },
   {
    "duration": 239,
    "start_time": "2022-06-29T19:46:39.987Z"
   },
   {
    "duration": 568,
    "start_time": "2022-06-29T19:46:54.182Z"
   },
   {
    "duration": 2097,
    "start_time": "2022-06-30T06:20:02.995Z"
   },
   {
    "duration": 1325,
    "start_time": "2022-06-30T06:20:05.097Z"
   },
   {
    "duration": 23,
    "start_time": "2022-06-30T06:20:06.425Z"
   },
   {
    "duration": 62,
    "start_time": "2022-06-30T06:20:06.453Z"
   },
   {
    "duration": 67,
    "start_time": "2022-06-30T06:20:06.517Z"
   },
   {
    "duration": 32,
    "start_time": "2022-06-30T06:20:06.586Z"
   },
   {
    "duration": 27,
    "start_time": "2022-06-30T06:20:06.620Z"
   },
   {
    "duration": 69,
    "start_time": "2022-06-30T06:20:06.649Z"
   },
   {
    "duration": 92,
    "start_time": "2022-06-30T06:20:06.720Z"
   },
   {
    "duration": 57,
    "start_time": "2022-06-30T06:20:06.815Z"
   },
   {
    "duration": 45,
    "start_time": "2022-06-30T06:20:06.875Z"
   },
   {
    "duration": 15,
    "start_time": "2022-06-30T06:20:06.922Z"
   },
   {
    "duration": 70,
    "start_time": "2022-06-30T06:20:06.940Z"
   },
   {
    "duration": 75,
    "start_time": "2022-06-30T06:20:07.012Z"
   },
   {
    "duration": 25,
    "start_time": "2022-06-30T06:20:07.089Z"
   },
   {
    "duration": 857,
    "start_time": "2022-06-30T06:20:07.116Z"
   },
   {
    "duration": 1013,
    "start_time": "2022-06-30T06:20:07.976Z"
   },
   {
    "duration": 533,
    "start_time": "2022-06-30T06:20:08.991Z"
   },
   {
    "duration": 35,
    "start_time": "2022-06-30T06:20:09.526Z"
   },
   {
    "duration": 61,
    "start_time": "2022-06-30T06:20:09.563Z"
   },
   {
    "duration": 6,
    "start_time": "2022-06-30T06:20:33.079Z"
   },
   {
    "duration": 11,
    "start_time": "2022-06-30T06:29:17.949Z"
   },
   {
    "duration": 153,
    "start_time": "2022-06-30T06:30:03.587Z"
   },
   {
    "duration": 9,
    "start_time": "2022-06-30T06:30:16.548Z"
   },
   {
    "duration": 11,
    "start_time": "2022-06-30T06:30:19.289Z"
   },
   {
    "duration": 7,
    "start_time": "2022-06-30T06:31:21.689Z"
   },
   {
    "duration": 11,
    "start_time": "2022-06-30T06:31:29.461Z"
   },
   {
    "duration": 132,
    "start_time": "2022-06-30T06:32:16.115Z"
   },
   {
    "duration": 85,
    "start_time": "2022-06-30T06:32:35.486Z"
   },
   {
    "duration": 12,
    "start_time": "2022-06-30T06:32:58.681Z"
   },
   {
    "duration": 10,
    "start_time": "2022-06-30T06:39:04.454Z"
   },
   {
    "duration": 16,
    "start_time": "2022-06-30T06:39:14.725Z"
   },
   {
    "duration": 9,
    "start_time": "2022-06-30T06:39:20.211Z"
   },
   {
    "duration": 14,
    "start_time": "2022-06-30T06:39:46.480Z"
   },
   {
    "duration": 12,
    "start_time": "2022-06-30T06:41:04.452Z"
   },
   {
    "duration": 16,
    "start_time": "2022-06-30T06:41:10.422Z"
   },
   {
    "duration": 9,
    "start_time": "2022-06-30T06:41:32.020Z"
   },
   {
    "duration": 6,
    "start_time": "2022-06-30T06:41:38.900Z"
   },
   {
    "duration": 12,
    "start_time": "2022-06-30T06:41:43.907Z"
   },
   {
    "duration": 12,
    "start_time": "2022-06-30T06:41:47.787Z"
   },
   {
    "duration": 391,
    "start_time": "2022-06-30T06:42:11.124Z"
   },
   {
    "duration": 43,
    "start_time": "2022-06-30T06:42:18.415Z"
   },
   {
    "duration": 22,
    "start_time": "2022-06-30T06:42:25.646Z"
   },
   {
    "duration": 13,
    "start_time": "2022-06-30T06:42:27.463Z"
   },
   {
    "duration": 6,
    "start_time": "2022-06-30T06:42:31.914Z"
   },
   {
    "duration": 83,
    "start_time": "2022-06-30T06:43:50.275Z"
   },
   {
    "duration": 8,
    "start_time": "2022-06-30T06:43:55.279Z"
   },
   {
    "duration": 30,
    "start_time": "2022-06-30T06:44:15.665Z"
   },
   {
    "duration": 68,
    "start_time": "2022-06-30T06:44:23.166Z"
   },
   {
    "duration": 0,
    "start_time": "2022-06-30T06:44:23.238Z"
   },
   {
    "duration": 0,
    "start_time": "2022-06-30T06:44:23.242Z"
   },
   {
    "duration": 1,
    "start_time": "2022-06-30T06:44:23.256Z"
   },
   {
    "duration": 0,
    "start_time": "2022-06-30T06:44:23.273Z"
   },
   {
    "duration": 0,
    "start_time": "2022-06-30T06:44:23.275Z"
   },
   {
    "duration": 0,
    "start_time": "2022-06-30T06:44:23.276Z"
   },
   {
    "duration": 0,
    "start_time": "2022-06-30T06:44:23.278Z"
   },
   {
    "duration": 0,
    "start_time": "2022-06-30T06:44:23.279Z"
   },
   {
    "duration": 0,
    "start_time": "2022-06-30T06:44:23.287Z"
   },
   {
    "duration": 0,
    "start_time": "2022-06-30T06:44:23.288Z"
   },
   {
    "duration": 0,
    "start_time": "2022-06-30T06:44:23.301Z"
   },
   {
    "duration": 0,
    "start_time": "2022-06-30T06:44:23.303Z"
   },
   {
    "duration": 0,
    "start_time": "2022-06-30T06:44:23.305Z"
   },
   {
    "duration": 0,
    "start_time": "2022-06-30T06:44:23.307Z"
   },
   {
    "duration": 0,
    "start_time": "2022-06-30T06:44:23.308Z"
   },
   {
    "duration": 0,
    "start_time": "2022-06-30T06:44:23.309Z"
   },
   {
    "duration": 0,
    "start_time": "2022-06-30T06:44:23.311Z"
   },
   {
    "duration": 0,
    "start_time": "2022-06-30T06:44:23.312Z"
   },
   {
    "duration": 0,
    "start_time": "2022-06-30T06:44:23.314Z"
   },
   {
    "duration": 0,
    "start_time": "2022-06-30T06:44:23.315Z"
   },
   {
    "duration": 1730,
    "start_time": "2022-06-30T06:44:44.923Z"
   },
   {
    "duration": 1834,
    "start_time": "2022-06-30T06:44:51.752Z"
   },
   {
    "duration": 595,
    "start_time": "2022-06-30T06:44:53.589Z"
   },
   {
    "duration": 14,
    "start_time": "2022-06-30T06:44:54.186Z"
   },
   {
    "duration": 51,
    "start_time": "2022-06-30T06:44:54.202Z"
   },
   {
    "duration": 50,
    "start_time": "2022-06-30T06:44:54.256Z"
   },
   {
    "duration": 14,
    "start_time": "2022-06-30T06:44:54.308Z"
   },
   {
    "duration": 30,
    "start_time": "2022-06-30T06:44:54.324Z"
   },
   {
    "duration": 39,
    "start_time": "2022-06-30T06:44:54.356Z"
   },
   {
    "duration": 24,
    "start_time": "2022-06-30T06:44:54.397Z"
   },
   {
    "duration": 64,
    "start_time": "2022-06-30T06:44:54.424Z"
   },
   {
    "duration": 16,
    "start_time": "2022-06-30T06:44:54.490Z"
   },
   {
    "duration": 10,
    "start_time": "2022-06-30T06:44:54.508Z"
   },
   {
    "duration": 61,
    "start_time": "2022-06-30T06:44:54.520Z"
   },
   {
    "duration": 39,
    "start_time": "2022-06-30T06:44:54.585Z"
   },
   {
    "duration": 32,
    "start_time": "2022-06-30T06:44:54.626Z"
   },
   {
    "duration": 801,
    "start_time": "2022-06-30T06:44:54.660Z"
   },
   {
    "duration": 1006,
    "start_time": "2022-06-30T06:44:55.465Z"
   },
   {
    "duration": 538,
    "start_time": "2022-06-30T06:44:56.478Z"
   },
   {
    "duration": 24,
    "start_time": "2022-06-30T06:44:57.018Z"
   },
   {
    "duration": 56,
    "start_time": "2022-06-30T06:44:57.044Z"
   },
   {
    "duration": 159,
    "start_time": "2022-06-30T06:44:57.102Z"
   },
   {
    "duration": 5,
    "start_time": "2022-06-30T06:45:14.485Z"
   },
   {
    "duration": 48,
    "start_time": "2022-06-30T19:40:18.600Z"
   },
   {
    "duration": 1477,
    "start_time": "2022-06-30T19:40:25.808Z"
   },
   {
    "duration": 835,
    "start_time": "2022-06-30T19:40:27.288Z"
   },
   {
    "duration": 13,
    "start_time": "2022-06-30T19:40:28.124Z"
   },
   {
    "duration": 17,
    "start_time": "2022-06-30T19:40:28.139Z"
   },
   {
    "duration": 38,
    "start_time": "2022-06-30T19:40:28.157Z"
   },
   {
    "duration": 9,
    "start_time": "2022-06-30T19:40:28.196Z"
   },
   {
    "duration": 21,
    "start_time": "2022-06-30T19:40:28.207Z"
   },
   {
    "duration": 31,
    "start_time": "2022-06-30T19:40:28.229Z"
   },
   {
    "duration": 14,
    "start_time": "2022-06-30T19:40:28.261Z"
   },
   {
    "duration": 39,
    "start_time": "2022-06-30T19:40:28.278Z"
   },
   {
    "duration": 14,
    "start_time": "2022-06-30T19:40:28.318Z"
   },
   {
    "duration": 31,
    "start_time": "2022-06-30T19:40:28.333Z"
   },
   {
    "duration": 14,
    "start_time": "2022-06-30T19:40:28.365Z"
   },
   {
    "duration": 39,
    "start_time": "2022-06-30T19:40:28.381Z"
   },
   {
    "duration": 13,
    "start_time": "2022-06-30T19:40:28.421Z"
   },
   {
    "duration": 529,
    "start_time": "2022-06-30T19:40:28.436Z"
   },
   {
    "duration": 954,
    "start_time": "2022-06-30T19:40:28.967Z"
   },
   {
    "duration": 338,
    "start_time": "2022-06-30T19:40:29.923Z"
   },
   {
    "duration": 17,
    "start_time": "2022-06-30T19:40:30.263Z"
   },
   {
    "duration": 46,
    "start_time": "2022-06-30T19:40:30.281Z"
   },
   {
    "duration": 50,
    "start_time": "2022-06-30T19:49:20.567Z"
   },
   {
    "duration": 47,
    "start_time": "2022-06-30T19:49:29.195Z"
   },
   {
    "duration": 46,
    "start_time": "2022-06-30T19:49:40.700Z"
   },
   {
    "duration": 100,
    "start_time": "2022-06-30T19:50:47.364Z"
   },
   {
    "duration": 53,
    "start_time": "2022-06-30T19:51:06.607Z"
   },
   {
    "duration": 3,
    "start_time": "2022-06-30T19:51:11.587Z"
   },
   {
    "duration": 8,
    "start_time": "2022-06-30T19:51:54.493Z"
   },
   {
    "duration": 8,
    "start_time": "2022-06-30T19:52:02.042Z"
   },
   {
    "duration": 8,
    "start_time": "2022-06-30T19:52:15.324Z"
   },
   {
    "duration": 14,
    "start_time": "2022-06-30T19:52:21.473Z"
   },
   {
    "duration": 7,
    "start_time": "2022-06-30T19:52:52.088Z"
   },
   {
    "duration": 11,
    "start_time": "2022-06-30T19:52:58.184Z"
   },
   {
    "duration": 24,
    "start_time": "2022-06-30T19:53:00.552Z"
   },
   {
    "duration": 7,
    "start_time": "2022-06-30T19:53:03.819Z"
   },
   {
    "duration": 7,
    "start_time": "2022-06-30T19:54:16.637Z"
   },
   {
    "duration": 15,
    "start_time": "2022-06-30T19:54:20.445Z"
   },
   {
    "duration": 9,
    "start_time": "2022-06-30T19:54:30.744Z"
   },
   {
    "duration": 6,
    "start_time": "2022-06-30T19:54:42.827Z"
   },
   {
    "duration": 9,
    "start_time": "2022-06-30T19:54:51.459Z"
   },
   {
    "duration": 7,
    "start_time": "2022-06-30T19:55:09.528Z"
   },
   {
    "duration": 6,
    "start_time": "2022-06-30T19:56:15.765Z"
   },
   {
    "duration": 6,
    "start_time": "2022-06-30T19:56:20.258Z"
   },
   {
    "duration": 45,
    "start_time": "2022-06-30T19:56:32.066Z"
   },
   {
    "duration": 4,
    "start_time": "2022-06-30T19:56:40.264Z"
   },
   {
    "duration": 10,
    "start_time": "2022-06-30T19:56:45.334Z"
   },
   {
    "duration": 3,
    "start_time": "2022-06-30T19:56:49.426Z"
   },
   {
    "duration": 45,
    "start_time": "2022-06-30T19:58:30.045Z"
   },
   {
    "duration": 40,
    "start_time": "2022-06-30T19:58:37.124Z"
   },
   {
    "duration": 5,
    "start_time": "2022-06-30T19:58:42.287Z"
   },
   {
    "duration": 34,
    "start_time": "2022-06-30T19:58:48.217Z"
   },
   {
    "duration": 50,
    "start_time": "2022-06-30T19:59:57.181Z"
   },
   {
    "duration": 10,
    "start_time": "2022-06-30T20:00:01.175Z"
   },
   {
    "duration": 27,
    "start_time": "2022-06-30T20:00:18.597Z"
   },
   {
    "duration": 12,
    "start_time": "2022-06-30T20:00:34.691Z"
   },
   {
    "duration": 6,
    "start_time": "2022-06-30T20:00:51.222Z"
   },
   {
    "duration": 6,
    "start_time": "2022-06-30T20:00:59.533Z"
   },
   {
    "duration": 5,
    "start_time": "2022-06-30T20:02:56.499Z"
   },
   {
    "duration": 46,
    "start_time": "2022-06-30T20:03:09.002Z"
   },
   {
    "duration": 43,
    "start_time": "2022-06-30T20:03:20.815Z"
   },
   {
    "duration": 42,
    "start_time": "2022-06-30T20:04:03.666Z"
   },
   {
    "duration": 45,
    "start_time": "2022-06-30T21:27:50.951Z"
   },
   {
    "duration": 44,
    "start_time": "2022-06-30T21:28:01.802Z"
   },
   {
    "duration": 42,
    "start_time": "2022-06-30T21:28:13.641Z"
   },
   {
    "duration": 47,
    "start_time": "2022-06-30T21:28:39.173Z"
   },
   {
    "duration": 46,
    "start_time": "2022-06-30T21:28:52.072Z"
   },
   {
    "duration": 60,
    "start_time": "2022-06-30T21:29:07.358Z"
   },
   {
    "duration": 48,
    "start_time": "2022-06-30T21:29:24.736Z"
   },
   {
    "duration": 45,
    "start_time": "2022-06-30T21:29:28.467Z"
   },
   {
    "duration": 89,
    "start_time": "2022-06-30T21:29:46.720Z"
   },
   {
    "duration": 82,
    "start_time": "2022-06-30T21:29:56.261Z"
   },
   {
    "duration": 104,
    "start_time": "2022-06-30T21:30:03.034Z"
   },
   {
    "duration": 121,
    "start_time": "2022-06-30T21:30:27.181Z"
   },
   {
    "duration": 87,
    "start_time": "2022-06-30T21:30:46.085Z"
   },
   {
    "duration": 89,
    "start_time": "2022-06-30T21:30:53.397Z"
   },
   {
    "duration": 91,
    "start_time": "2022-06-30T21:31:48.123Z"
   },
   {
    "duration": 44,
    "start_time": "2022-06-30T21:32:04.419Z"
   },
   {
    "duration": 83,
    "start_time": "2022-06-30T21:32:16.553Z"
   },
   {
    "duration": 99,
    "start_time": "2022-06-30T21:32:52.129Z"
   },
   {
    "duration": 41,
    "start_time": "2022-06-30T21:33:13.170Z"
   },
   {
    "duration": 101,
    "start_time": "2022-06-30T21:33:20.967Z"
   },
   {
    "duration": 81,
    "start_time": "2022-06-30T21:33:33.352Z"
   },
   {
    "duration": 86,
    "start_time": "2022-06-30T21:33:45.630Z"
   },
   {
    "duration": 85,
    "start_time": "2022-06-30T21:33:49.192Z"
   },
   {
    "duration": 5,
    "start_time": "2022-06-30T21:36:24.833Z"
   },
   {
    "duration": 44,
    "start_time": "2022-06-30T21:36:30.341Z"
   },
   {
    "duration": 45,
    "start_time": "2022-06-30T21:36:56.749Z"
   },
   {
    "duration": 10,
    "start_time": "2022-06-30T21:37:15.068Z"
   },
   {
    "duration": 5,
    "start_time": "2022-06-30T21:37:18.833Z"
   },
   {
    "duration": 6,
    "start_time": "2022-06-30T21:37:24.599Z"
   },
   {
    "duration": 43,
    "start_time": "2022-06-30T21:37:41.810Z"
   },
   {
    "duration": 95,
    "start_time": "2022-06-30T21:38:09.700Z"
   },
   {
    "duration": 48,
    "start_time": "2022-06-30T23:14:36.838Z"
   },
   {
    "duration": 96,
    "start_time": "2022-06-30T23:15:57.401Z"
   },
   {
    "duration": 72,
    "start_time": "2022-06-30T23:16:02.637Z"
   },
   {
    "duration": 68,
    "start_time": "2022-06-30T23:16:17.168Z"
   },
   {
    "duration": 9,
    "start_time": "2022-06-30T23:16:21.925Z"
   },
   {
    "duration": 1551,
    "start_time": "2022-06-30T23:16:28.862Z"
   },
   {
    "duration": 731,
    "start_time": "2022-06-30T23:16:30.415Z"
   },
   {
    "duration": 14,
    "start_time": "2022-06-30T23:16:31.147Z"
   },
   {
    "duration": 15,
    "start_time": "2022-06-30T23:16:31.162Z"
   },
   {
    "duration": 43,
    "start_time": "2022-06-30T23:16:31.178Z"
   },
   {
    "duration": 8,
    "start_time": "2022-06-30T23:16:31.222Z"
   },
   {
    "duration": 31,
    "start_time": "2022-06-30T23:16:31.232Z"
   },
   {
    "duration": 8,
    "start_time": "2022-06-30T23:16:31.265Z"
   },
   {
    "duration": 23,
    "start_time": "2022-06-30T23:16:31.275Z"
   },
   {
    "duration": 52,
    "start_time": "2022-06-30T23:16:31.300Z"
   },
   {
    "duration": 16,
    "start_time": "2022-06-30T23:16:31.353Z"
   },
   {
    "duration": 9,
    "start_time": "2022-06-30T23:16:31.372Z"
   },
   {
    "duration": 20,
    "start_time": "2022-06-30T23:16:31.383Z"
   },
   {
    "duration": 58,
    "start_time": "2022-06-30T23:16:31.405Z"
   },
   {
    "duration": 15,
    "start_time": "2022-06-30T23:16:31.465Z"
   },
   {
    "duration": 511,
    "start_time": "2022-06-30T23:16:31.482Z"
   },
   {
    "duration": 1002,
    "start_time": "2022-06-30T23:16:31.994Z"
   },
   {
    "duration": 345,
    "start_time": "2022-06-30T23:16:32.998Z"
   },
   {
    "duration": 21,
    "start_time": "2022-06-30T23:16:33.345Z"
   },
   {
    "duration": 102,
    "start_time": "2022-06-30T23:16:33.367Z"
   },
   {
    "duration": 116,
    "start_time": "2022-06-30T23:16:33.471Z"
   },
   {
    "duration": 5,
    "start_time": "2022-06-30T23:17:06.664Z"
   },
   {
    "duration": 17,
    "start_time": "2022-06-30T23:17:24.376Z"
   },
   {
    "duration": 15,
    "start_time": "2022-06-30T23:17:29.376Z"
   },
   {
    "duration": 7,
    "start_time": "2022-06-30T23:17:31.630Z"
   },
   {
    "duration": 8,
    "start_time": "2022-06-30T23:17:45.171Z"
   },
   {
    "duration": 62,
    "start_time": "2022-07-01T00:26:44.305Z"
   },
   {
    "duration": 7,
    "start_time": "2022-07-01T00:27:04.935Z"
   },
   {
    "duration": 10,
    "start_time": "2022-07-01T00:27:09.601Z"
   },
   {
    "duration": 8,
    "start_time": "2022-07-01T00:27:27.706Z"
   },
   {
    "duration": 14,
    "start_time": "2022-07-01T00:27:42.106Z"
   },
   {
    "duration": 6,
    "start_time": "2022-07-01T00:27:58.798Z"
   },
   {
    "duration": 83,
    "start_time": "2022-07-01T00:28:05.544Z"
   },
   {
    "duration": 11,
    "start_time": "2022-07-01T00:28:24.889Z"
   },
   {
    "duration": 10,
    "start_time": "2022-07-01T00:28:34.737Z"
   },
   {
    "duration": 11,
    "start_time": "2022-07-01T00:28:56.176Z"
   },
   {
    "duration": 11,
    "start_time": "2022-07-01T00:28:59.835Z"
   },
   {
    "duration": 113,
    "start_time": "2022-07-01T00:30:03.769Z"
   },
   {
    "duration": 42,
    "start_time": "2022-07-01T00:30:14.165Z"
   },
   {
    "duration": 65,
    "start_time": "2022-07-01T00:30:29.434Z"
   },
   {
    "duration": 81,
    "start_time": "2022-07-01T00:30:58.262Z"
   },
   {
    "duration": 493,
    "start_time": "2022-07-01T00:31:07.567Z"
   },
   {
    "duration": 453,
    "start_time": "2022-07-01T00:31:22.725Z"
   },
   {
    "duration": 443,
    "start_time": "2022-07-01T00:33:56.234Z"
   },
   {
    "duration": 411,
    "start_time": "2022-07-01T00:34:05.462Z"
   },
   {
    "duration": 400,
    "start_time": "2022-07-01T00:34:15.478Z"
   },
   {
    "duration": 77,
    "start_time": "2022-07-01T00:34:31.750Z"
   },
   {
    "duration": 456,
    "start_time": "2022-07-01T00:34:38.629Z"
   },
   {
    "duration": 66,
    "start_time": "2022-07-01T00:36:14.063Z"
   },
   {
    "duration": 112,
    "start_time": "2022-07-01T00:36:19.628Z"
   },
   {
    "duration": 408,
    "start_time": "2022-07-01T00:36:22.965Z"
   },
   {
    "duration": 80,
    "start_time": "2022-07-01T00:40:06.123Z"
   },
   {
    "duration": 441,
    "start_time": "2022-07-01T00:40:19.328Z"
   },
   {
    "duration": 446,
    "start_time": "2022-07-01T00:41:11.823Z"
   },
   {
    "duration": 141,
    "start_time": "2022-07-01T00:41:26.112Z"
   },
   {
    "duration": 472,
    "start_time": "2022-07-01T00:41:38.703Z"
   },
   {
    "duration": 459,
    "start_time": "2022-07-01T00:42:19.213Z"
   },
   {
    "duration": 521,
    "start_time": "2022-07-01T00:42:29.130Z"
   },
   {
    "duration": 385,
    "start_time": "2022-07-01T00:45:35.687Z"
   },
   {
    "duration": 64,
    "start_time": "2022-07-01T00:49:40.811Z"
   },
   {
    "duration": 66,
    "start_time": "2022-07-01T00:49:44.633Z"
   },
   {
    "duration": 111,
    "start_time": "2022-07-01T00:49:48.146Z"
   },
   {
    "duration": 437,
    "start_time": "2022-07-01T00:49:56.435Z"
   },
   {
    "duration": 364,
    "start_time": "2022-07-01T00:53:35.603Z"
   },
   {
    "duration": 47,
    "start_time": "2022-07-01T03:54:35.606Z"
   },
   {
    "duration": 12,
    "start_time": "2022-07-01T03:55:00.192Z"
   },
   {
    "duration": 9,
    "start_time": "2022-07-01T03:55:06.319Z"
   },
   {
    "duration": 10,
    "start_time": "2022-07-01T03:55:15.688Z"
   },
   {
    "duration": 4,
    "start_time": "2022-07-01T03:55:23.890Z"
   },
   {
    "duration": 9,
    "start_time": "2022-07-01T03:55:25.688Z"
   },
   {
    "duration": 4,
    "start_time": "2022-07-01T03:55:33.209Z"
   },
   {
    "duration": 3,
    "start_time": "2022-07-01T03:55:46.618Z"
   },
   {
    "duration": 4,
    "start_time": "2022-07-01T03:56:44.010Z"
   },
   {
    "duration": 4,
    "start_time": "2022-07-01T03:57:44.901Z"
   },
   {
    "duration": 446,
    "start_time": "2022-07-01T04:07:05.634Z"
   },
   {
    "duration": 418,
    "start_time": "2022-07-01T04:07:15.062Z"
   },
   {
    "duration": 103,
    "start_time": "2022-07-01T04:07:27.649Z"
   },
   {
    "duration": 274,
    "start_time": "2022-07-01T04:07:44.797Z"
   },
   {
    "duration": 6,
    "start_time": "2022-07-01T04:20:07.744Z"
   },
   {
    "duration": 7,
    "start_time": "2022-07-01T04:20:21.655Z"
   },
   {
    "duration": 5,
    "start_time": "2022-07-01T04:20:33.502Z"
   },
   {
    "duration": 16,
    "start_time": "2022-07-01T04:20:44.957Z"
   },
   {
    "duration": 8,
    "start_time": "2022-07-01T04:20:54.913Z"
   },
   {
    "duration": 5,
    "start_time": "2022-07-01T04:21:45.010Z"
   },
   {
    "duration": 5,
    "start_time": "2022-07-01T04:22:03.666Z"
   },
   {
    "duration": 5,
    "start_time": "2022-07-01T04:22:12.010Z"
   },
   {
    "duration": 6,
    "start_time": "2022-07-01T04:22:24.428Z"
   },
   {
    "duration": 6,
    "start_time": "2022-07-01T04:22:33.421Z"
   },
   {
    "duration": 9,
    "start_time": "2022-07-01T04:23:16.212Z"
   },
   {
    "duration": 6,
    "start_time": "2022-07-01T04:32:15.003Z"
   },
   {
    "duration": 5,
    "start_time": "2022-07-01T04:32:20.909Z"
   },
   {
    "duration": 12,
    "start_time": "2022-07-01T04:32:37.697Z"
   },
   {
    "duration": 179,
    "start_time": "2022-07-01T04:33:02.197Z"
   },
   {
    "duration": 146,
    "start_time": "2022-07-01T04:34:18.524Z"
   },
   {
    "duration": 400,
    "start_time": "2022-07-01T04:35:25.281Z"
   },
   {
    "duration": 6,
    "start_time": "2022-07-01T05:15:19.426Z"
   },
   {
    "duration": 9,
    "start_time": "2022-07-01T05:15:24.912Z"
   },
   {
    "duration": 103,
    "start_time": "2022-07-01T05:16:37.762Z"
   },
   {
    "duration": 87,
    "start_time": "2022-07-01T05:17:13.579Z"
   },
   {
    "duration": 77,
    "start_time": "2022-07-01T05:17:30.790Z"
   },
   {
    "duration": 100,
    "start_time": "2022-07-01T05:18:08.865Z"
   },
   {
    "duration": 101,
    "start_time": "2022-07-01T05:18:55.663Z"
   },
   {
    "duration": 246,
    "start_time": "2022-07-01T05:24:03.518Z"
   },
   {
    "duration": 194,
    "start_time": "2022-07-01T05:25:07.182Z"
   },
   {
    "duration": 4,
    "start_time": "2022-07-01T05:25:29.564Z"
   },
   {
    "duration": 75,
    "start_time": "2022-07-01T05:27:03.304Z"
   },
   {
    "duration": 522,
    "start_time": "2022-07-01T05:29:27.630Z"
   },
   {
    "duration": 558,
    "start_time": "2022-07-01T06:17:27.893Z"
   },
   {
    "duration": 451,
    "start_time": "2022-07-01T06:17:38.524Z"
   },
   {
    "duration": 598,
    "start_time": "2022-07-01T06:17:45.154Z"
   },
   {
    "duration": 420,
    "start_time": "2022-07-01T06:17:55.049Z"
   },
   {
    "duration": 490,
    "start_time": "2022-07-01T06:18:00.871Z"
   },
   {
    "duration": 44,
    "start_time": "2022-07-02T02:35:32.514Z"
   },
   {
    "duration": 1402,
    "start_time": "2022-07-02T02:35:40.296Z"
   },
   {
    "duration": 633,
    "start_time": "2022-07-02T02:35:41.700Z"
   },
   {
    "duration": 13,
    "start_time": "2022-07-02T02:35:42.334Z"
   },
   {
    "duration": 16,
    "start_time": "2022-07-02T02:35:42.349Z"
   },
   {
    "duration": 35,
    "start_time": "2022-07-02T02:35:42.366Z"
   },
   {
    "duration": 9,
    "start_time": "2022-07-02T02:35:42.403Z"
   },
   {
    "duration": 14,
    "start_time": "2022-07-02T02:35:42.413Z"
   },
   {
    "duration": 28,
    "start_time": "2022-07-02T02:35:42.428Z"
   },
   {
    "duration": 13,
    "start_time": "2022-07-02T02:35:42.458Z"
   },
   {
    "duration": 29,
    "start_time": "2022-07-02T02:35:42.473Z"
   },
   {
    "duration": 13,
    "start_time": "2022-07-02T02:35:42.504Z"
   },
   {
    "duration": 8,
    "start_time": "2022-07-02T02:35:42.518Z"
   },
   {
    "duration": 33,
    "start_time": "2022-07-02T02:35:42.528Z"
   },
   {
    "duration": 30,
    "start_time": "2022-07-02T02:35:42.563Z"
   },
   {
    "duration": 12,
    "start_time": "2022-07-02T02:35:42.594Z"
   },
   {
    "duration": 886,
    "start_time": "2022-07-02T02:35:42.608Z"
   },
   {
    "duration": 383,
    "start_time": "2022-07-02T02:35:43.496Z"
   },
   {
    "duration": 15,
    "start_time": "2022-07-02T02:35:43.881Z"
   },
   {
    "duration": 472,
    "start_time": "2022-07-02T02:35:43.898Z"
   },
   {
    "duration": 4,
    "start_time": "2022-07-02T02:35:44.371Z"
   },
   {
    "duration": 105,
    "start_time": "2022-07-02T02:35:44.451Z"
   },
   {
    "duration": 8,
    "start_time": "2022-07-02T02:35:44.557Z"
   },
   {
    "duration": 484,
    "start_time": "2022-07-02T02:35:44.567Z"
   },
   {
    "duration": 185,
    "start_time": "2022-07-02T02:35:45.053Z"
   },
   {
    "duration": 51,
    "start_time": "2022-07-02T02:36:47.244Z"
   },
   {
    "duration": 424,
    "start_time": "2022-07-02T02:37:05.651Z"
   },
   {
    "duration": 5,
    "start_time": "2022-07-02T02:37:17.940Z"
   },
   {
    "duration": 6,
    "start_time": "2022-07-02T02:37:25.465Z"
   },
   {
    "duration": 6,
    "start_time": "2022-07-02T02:37:28.481Z"
   },
   {
    "duration": 6,
    "start_time": "2022-07-02T02:37:33.617Z"
   },
   {
    "duration": 455,
    "start_time": "2022-07-02T03:05:18.907Z"
   },
   {
    "duration": 416,
    "start_time": "2022-07-02T03:05:29.852Z"
   },
   {
    "duration": 11,
    "start_time": "2022-07-02T03:05:40.758Z"
   },
   {
    "duration": 1188,
    "start_time": "2022-07-02T03:05:50.868Z"
   },
   {
    "duration": 590,
    "start_time": "2022-07-02T03:06:14.162Z"
   },
   {
    "duration": 1757,
    "start_time": "2022-07-02T03:06:32.305Z"
   },
   {
    "duration": 1209,
    "start_time": "2022-07-02T03:06:36.054Z"
   },
   {
    "duration": 1165,
    "start_time": "2022-07-02T03:06:57.192Z"
   },
   {
    "duration": 1130,
    "start_time": "2022-07-02T03:07:12.648Z"
   },
   {
    "duration": 1512,
    "start_time": "2022-07-04T17:35:34.571Z"
   },
   {
    "duration": 942,
    "start_time": "2022-07-04T17:35:36.086Z"
   },
   {
    "duration": 12,
    "start_time": "2022-07-04T17:35:37.029Z"
   },
   {
    "duration": 14,
    "start_time": "2022-07-04T17:35:37.043Z"
   },
   {
    "duration": 48,
    "start_time": "2022-07-04T17:35:37.059Z"
   },
   {
    "duration": 9,
    "start_time": "2022-07-04T17:35:37.108Z"
   },
   {
    "duration": 15,
    "start_time": "2022-07-04T17:35:37.118Z"
   },
   {
    "duration": 31,
    "start_time": "2022-07-04T17:35:37.135Z"
   },
   {
    "duration": 30,
    "start_time": "2022-07-04T17:35:37.168Z"
   },
   {
    "duration": 33,
    "start_time": "2022-07-04T17:35:37.200Z"
   },
   {
    "duration": 13,
    "start_time": "2022-07-04T17:35:37.235Z"
   },
   {
    "duration": 24,
    "start_time": "2022-07-04T17:35:37.250Z"
   },
   {
    "duration": 22,
    "start_time": "2022-07-04T17:35:37.276Z"
   },
   {
    "duration": 35,
    "start_time": "2022-07-04T17:35:37.301Z"
   },
   {
    "duration": 44,
    "start_time": "2022-07-04T17:35:37.338Z"
   },
   {
    "duration": 1066,
    "start_time": "2022-07-04T17:35:37.386Z"
   },
   {
    "duration": 470,
    "start_time": "2022-07-04T17:35:38.453Z"
   },
   {
    "duration": 16,
    "start_time": "2022-07-04T17:35:38.925Z"
   },
   {
    "duration": 1238,
    "start_time": "2022-07-04T17:35:38.942Z"
   },
   {
    "duration": 5,
    "start_time": "2022-07-04T17:35:40.182Z"
   },
   {
    "duration": 11,
    "start_time": "2022-07-04T17:35:40.189Z"
   },
   {
    "duration": 5,
    "start_time": "2022-07-04T17:35:40.202Z"
   },
   {
    "duration": 6,
    "start_time": "2022-07-04T17:35:55.131Z"
   },
   {
    "duration": 7,
    "start_time": "2022-07-04T17:36:16.696Z"
   },
   {
    "duration": 6,
    "start_time": "2022-07-04T17:36:22.847Z"
   },
   {
    "duration": 7,
    "start_time": "2022-07-04T17:36:28.591Z"
   },
   {
    "duration": 8,
    "start_time": "2022-07-04T17:36:32.423Z"
   },
   {
    "duration": 6,
    "start_time": "2022-07-04T17:36:35.759Z"
   },
   {
    "duration": 423,
    "start_time": "2022-07-04T17:36:45.667Z"
   },
   {
    "duration": 467,
    "start_time": "2022-07-04T17:37:02.702Z"
   },
   {
    "duration": 463,
    "start_time": "2022-07-04T17:37:09.825Z"
   },
   {
    "duration": 7,
    "start_time": "2022-07-04T17:37:18.645Z"
   },
   {
    "duration": 9,
    "start_time": "2022-07-04T17:37:20.803Z"
   },
   {
    "duration": 7,
    "start_time": "2022-07-04T17:37:42.621Z"
   },
   {
    "duration": 7,
    "start_time": "2022-07-04T17:37:44.253Z"
   },
   {
    "duration": 7,
    "start_time": "2022-07-04T17:37:50.527Z"
   },
   {
    "duration": 6,
    "start_time": "2022-07-04T17:37:53.999Z"
   },
   {
    "duration": 83,
    "start_time": "2022-07-04T17:38:01.702Z"
   },
   {
    "duration": 461,
    "start_time": "2022-07-04T17:38:07.203Z"
   },
   {
    "duration": 451,
    "start_time": "2022-07-04T17:38:12.635Z"
   },
   {
    "duration": 530,
    "start_time": "2022-07-04T17:39:43.734Z"
   },
   {
    "duration": 386,
    "start_time": "2022-07-04T17:39:49.305Z"
   },
   {
    "duration": 4,
    "start_time": "2022-07-04T20:10:55.497Z"
   },
   {
    "duration": 360,
    "start_time": "2022-07-04T20:10:55.503Z"
   },
   {
    "duration": 9,
    "start_time": "2022-07-04T20:10:55.865Z"
   },
   {
    "duration": 20,
    "start_time": "2022-07-04T20:10:55.876Z"
   },
   {
    "duration": 39,
    "start_time": "2022-07-04T20:10:55.898Z"
   },
   {
    "duration": 27,
    "start_time": "2022-07-04T20:10:55.939Z"
   },
   {
    "duration": 14,
    "start_time": "2022-07-04T20:10:55.968Z"
   },
   {
    "duration": 9,
    "start_time": "2022-07-04T20:10:55.984Z"
   },
   {
    "duration": 24,
    "start_time": "2022-07-04T20:10:55.994Z"
   },
   {
    "duration": 51,
    "start_time": "2022-07-04T20:10:56.019Z"
   },
   {
    "duration": 15,
    "start_time": "2022-07-04T20:10:56.071Z"
   },
   {
    "duration": 9,
    "start_time": "2022-07-04T20:10:56.087Z"
   },
   {
    "duration": 16,
    "start_time": "2022-07-04T20:10:56.097Z"
   },
   {
    "duration": 60,
    "start_time": "2022-07-04T20:10:56.116Z"
   },
   {
    "duration": 15,
    "start_time": "2022-07-04T20:10:56.178Z"
   },
   {
    "duration": 829,
    "start_time": "2022-07-04T20:10:56.195Z"
   },
   {
    "duration": 342,
    "start_time": "2022-07-04T20:10:57.026Z"
   },
   {
    "duration": 19,
    "start_time": "2022-07-04T20:10:57.369Z"
   },
   {
    "duration": 1188,
    "start_time": "2022-07-04T20:10:57.390Z"
   },
   {
    "duration": 3,
    "start_time": "2022-07-04T20:10:58.580Z"
   },
   {
    "duration": 23,
    "start_time": "2022-07-04T20:10:58.584Z"
   },
   {
    "duration": 6,
    "start_time": "2022-07-04T20:10:58.609Z"
   },
   {
    "duration": 668,
    "start_time": "2022-07-04T20:10:58.616Z"
   },
   {
    "duration": 117,
    "start_time": "2022-07-04T20:10:59.286Z"
   },
   {
    "duration": 574,
    "start_time": "2022-07-04T20:11:36.890Z"
   },
   {
    "duration": 15,
    "start_time": "2022-07-04T20:13:23.948Z"
   },
   {
    "duration": 1209,
    "start_time": "2022-07-04T20:13:59.775Z"
   },
   {
    "duration": 421,
    "start_time": "2022-07-04T20:14:42.857Z"
   },
   {
    "duration": 441,
    "start_time": "2022-07-04T20:14:53.834Z"
   },
   {
    "duration": 373,
    "start_time": "2022-07-04T20:15:05.009Z"
   },
   {
    "duration": 1464,
    "start_time": "2022-07-05T00:29:28.152Z"
   },
   {
    "duration": 728,
    "start_time": "2022-07-05T00:29:29.618Z"
   },
   {
    "duration": 12,
    "start_time": "2022-07-05T00:29:30.347Z"
   },
   {
    "duration": 27,
    "start_time": "2022-07-05T00:29:30.361Z"
   },
   {
    "duration": 39,
    "start_time": "2022-07-05T00:29:30.390Z"
   },
   {
    "duration": 10,
    "start_time": "2022-07-05T00:29:30.431Z"
   },
   {
    "duration": 18,
    "start_time": "2022-07-05T00:29:30.443Z"
   },
   {
    "duration": 8,
    "start_time": "2022-07-05T00:29:30.462Z"
   },
   {
    "duration": 40,
    "start_time": "2022-07-05T00:29:30.471Z"
   },
   {
    "duration": 68,
    "start_time": "2022-07-05T00:29:30.515Z"
   },
   {
    "duration": 13,
    "start_time": "2022-07-05T00:29:30.584Z"
   },
   {
    "duration": 28,
    "start_time": "2022-07-05T00:29:30.599Z"
   },
   {
    "duration": 27,
    "start_time": "2022-07-05T00:29:30.628Z"
   },
   {
    "duration": 32,
    "start_time": "2022-07-05T00:29:30.657Z"
   },
   {
    "duration": 19,
    "start_time": "2022-07-05T00:29:30.691Z"
   },
   {
    "duration": 880,
    "start_time": "2022-07-05T00:29:30.714Z"
   },
   {
    "duration": 414,
    "start_time": "2022-07-05T00:29:31.595Z"
   },
   {
    "duration": 19,
    "start_time": "2022-07-05T00:29:32.013Z"
   },
   {
    "duration": 389,
    "start_time": "2022-07-05T00:29:32.034Z"
   },
   {
    "duration": 4,
    "start_time": "2022-07-05T00:29:32.425Z"
   },
   {
    "duration": 124,
    "start_time": "2022-07-05T00:29:32.503Z"
   },
   {
    "duration": 16,
    "start_time": "2022-07-05T00:29:32.629Z"
   },
   {
    "duration": 384,
    "start_time": "2022-07-05T00:29:32.646Z"
   },
   {
    "duration": 5,
    "start_time": "2022-07-05T00:29:36.427Z"
   },
   {
    "duration": 104,
    "start_time": "2022-07-05T00:29:59.317Z"
   },
   {
    "duration": 382,
    "start_time": "2022-07-05T00:31:18.545Z"
   },
   {
    "duration": 13,
    "start_time": "2022-07-05T00:31:26.010Z"
   },
   {
    "duration": 1018,
    "start_time": "2022-07-05T00:31:37.589Z"
   },
   {
    "duration": 12,
    "start_time": "2022-07-05T00:31:41.328Z"
   },
   {
    "duration": 48,
    "start_time": "2022-07-05T00:32:59.543Z"
   },
   {
    "duration": 16,
    "start_time": "2022-07-05T00:33:29.833Z"
   },
   {
    "duration": 7,
    "start_time": "2022-07-05T00:33:38.018Z"
   },
   {
    "duration": 7,
    "start_time": "2022-07-05T00:33:43.245Z"
   },
   {
    "duration": 12,
    "start_time": "2022-07-05T00:33:54.978Z"
   },
   {
    "duration": 2,
    "start_time": "2022-07-05T00:38:36.386Z"
   },
   {
    "duration": 22,
    "start_time": "2022-07-05T00:39:34.701Z"
   },
   {
    "duration": 6,
    "start_time": "2022-07-05T00:39:49.373Z"
   },
   {
    "duration": 60,
    "start_time": "2022-07-05T00:41:05.387Z"
   },
   {
    "duration": 55,
    "start_time": "2022-07-05T00:41:39.468Z"
   },
   {
    "duration": 1389,
    "start_time": "2022-07-05T00:42:10.266Z"
   },
   {
    "duration": 363,
    "start_time": "2022-07-05T00:42:11.657Z"
   },
   {
    "duration": 12,
    "start_time": "2022-07-05T00:42:12.022Z"
   },
   {
    "duration": 18,
    "start_time": "2022-07-05T00:42:12.036Z"
   },
   {
    "duration": 57,
    "start_time": "2022-07-05T00:42:12.057Z"
   },
   {
    "duration": 10,
    "start_time": "2022-07-05T00:42:12.116Z"
   },
   {
    "duration": 18,
    "start_time": "2022-07-05T00:42:12.128Z"
   },
   {
    "duration": 8,
    "start_time": "2022-07-05T00:42:12.148Z"
   },
   {
    "duration": 25,
    "start_time": "2022-07-05T00:42:12.159Z"
   },
   {
    "duration": 47,
    "start_time": "2022-07-05T00:42:12.186Z"
   },
   {
    "duration": 14,
    "start_time": "2022-07-05T00:42:12.234Z"
   },
   {
    "duration": 18,
    "start_time": "2022-07-05T00:42:12.250Z"
   },
   {
    "duration": 32,
    "start_time": "2022-07-05T00:42:12.270Z"
   },
   {
    "duration": 44,
    "start_time": "2022-07-05T00:42:12.307Z"
   },
   {
    "duration": 14,
    "start_time": "2022-07-05T00:42:12.353Z"
   },
   {
    "duration": 903,
    "start_time": "2022-07-05T00:42:12.368Z"
   },
   {
    "duration": 434,
    "start_time": "2022-07-05T00:42:13.273Z"
   },
   {
    "duration": 23,
    "start_time": "2022-07-05T00:42:13.709Z"
   },
   {
    "duration": 6,
    "start_time": "2022-07-05T00:42:13.733Z"
   },
   {
    "duration": 7,
    "start_time": "2022-07-05T00:42:13.741Z"
   },
   {
    "duration": 7,
    "start_time": "2022-07-05T00:42:13.750Z"
   },
   {
    "duration": 6,
    "start_time": "2022-07-05T00:42:13.758Z"
   },
   {
    "duration": 454,
    "start_time": "2022-07-05T00:42:13.766Z"
   },
   {
    "duration": 317,
    "start_time": "2022-07-05T00:42:14.222Z"
   },
   {
    "duration": 0,
    "start_time": "2022-07-05T00:42:14.541Z"
   },
   {
    "duration": 0,
    "start_time": "2022-07-05T00:42:14.542Z"
   },
   {
    "duration": 48,
    "start_time": "2022-07-05T00:43:08.417Z"
   },
   {
    "duration": 29,
    "start_time": "2022-07-05T00:46:23.936Z"
   },
   {
    "duration": 102,
    "start_time": "2022-07-05T00:46:33.546Z"
   },
   {
    "duration": 97,
    "start_time": "2022-07-05T00:47:59.513Z"
   },
   {
    "duration": 80,
    "start_time": "2022-07-05T00:48:11.890Z"
   },
   {
    "duration": 31,
    "start_time": "2022-07-05T00:48:49.765Z"
   },
   {
    "duration": 35,
    "start_time": "2022-07-05T00:48:53.100Z"
   },
   {
    "duration": 31,
    "start_time": "2022-07-05T00:48:57.319Z"
   },
   {
    "duration": 4,
    "start_time": "2022-07-05T00:49:10.216Z"
   },
   {
    "duration": 10,
    "start_time": "2022-07-05T00:49:11.917Z"
   },
   {
    "duration": 13,
    "start_time": "2022-07-05T00:49:22.060Z"
   },
   {
    "duration": 340,
    "start_time": "2022-07-05T00:50:10.173Z"
   },
   {
    "duration": 4,
    "start_time": "2022-07-05T00:50:22.770Z"
   },
   {
    "duration": 20,
    "start_time": "2022-07-05T00:50:24.803Z"
   },
   {
    "duration": 1587,
    "start_time": "2022-07-05T00:52:37.614Z"
   },
   {
    "duration": 442,
    "start_time": "2022-07-05T00:52:52.969Z"
   },
   {
    "duration": 452,
    "start_time": "2022-07-05T00:58:25.161Z"
   },
   {
    "duration": 294,
    "start_time": "2022-07-05T00:58:28.714Z"
   },
   {
    "duration": 5,
    "start_time": "2022-07-05T00:58:34.061Z"
   },
   {
    "duration": 11,
    "start_time": "2022-07-05T00:58:43.943Z"
   },
   {
    "duration": 5,
    "start_time": "2022-07-05T01:00:36.468Z"
   },
   {
    "duration": 15,
    "start_time": "2022-07-05T01:00:39.779Z"
   },
   {
    "duration": 4,
    "start_time": "2022-07-05T01:05:03.258Z"
   },
   {
    "duration": 5,
    "start_time": "2022-07-05T01:05:29.855Z"
   },
   {
    "duration": 76,
    "start_time": "2022-07-05T01:05:41.925Z"
   },
   {
    "duration": 9,
    "start_time": "2022-07-05T01:05:58.217Z"
   },
   {
    "duration": 17,
    "start_time": "2022-07-05T01:06:01.446Z"
   },
   {
    "duration": 3,
    "start_time": "2022-07-05T01:07:53.814Z"
   },
   {
    "duration": 5,
    "start_time": "2022-07-05T01:07:56.856Z"
   },
   {
    "duration": 17,
    "start_time": "2022-07-05T01:07:58.033Z"
   },
   {
    "duration": 74,
    "start_time": "2022-07-05T01:08:11.889Z"
   },
   {
    "duration": 3,
    "start_time": "2022-07-05T01:08:24.746Z"
   },
   {
    "duration": 6,
    "start_time": "2022-07-05T01:08:26.204Z"
   },
   {
    "duration": 18,
    "start_time": "2022-07-05T01:08:27.613Z"
   },
   {
    "duration": 4,
    "start_time": "2022-07-05T01:10:58.036Z"
   },
   {
    "duration": 6,
    "start_time": "2022-07-05T01:11:00.813Z"
   },
   {
    "duration": 1386,
    "start_time": "2022-07-05T01:11:04.589Z"
   },
   {
    "duration": 48,
    "start_time": "2022-07-05T01:14:20.387Z"
   },
   {
    "duration": 82,
    "start_time": "2022-07-05T01:15:40.622Z"
   },
   {
    "duration": 1236,
    "start_time": "2022-07-05T01:15:44.335Z"
   },
   {
    "duration": 34,
    "start_time": "2022-07-05T01:15:52.664Z"
   },
   {
    "duration": 39,
    "start_time": "2022-07-05T01:15:54.261Z"
   },
   {
    "duration": 1135,
    "start_time": "2022-07-05T01:16:01.170Z"
   },
   {
    "duration": 1105,
    "start_time": "2022-07-05T01:16:11.565Z"
   },
   {
    "duration": 375,
    "start_time": "2022-07-05T01:27:39.032Z"
   },
   {
    "duration": 6,
    "start_time": "2022-07-05T01:28:08.124Z"
   },
   {
    "duration": 840,
    "start_time": "2022-07-05T01:42:51.463Z"
   },
   {
    "duration": 858,
    "start_time": "2022-07-05T01:43:05.858Z"
   },
   {
    "duration": 354,
    "start_time": "2022-07-05T01:43:09.159Z"
   },
   {
    "duration": 6,
    "start_time": "2022-07-05T01:43:17.650Z"
   },
   {
    "duration": 389,
    "start_time": "2022-07-05T01:43:32.533Z"
   },
   {
    "duration": 5,
    "start_time": "2022-07-05T01:54:18.348Z"
   },
   {
    "duration": 4,
    "start_time": "2022-07-05T01:54:42.848Z"
   },
   {
    "duration": 4,
    "start_time": "2022-07-05T01:55:13.451Z"
   },
   {
    "duration": 5,
    "start_time": "2022-07-05T01:55:25.148Z"
   },
   {
    "duration": 81,
    "start_time": "2022-07-05T02:24:12.884Z"
   },
   {
    "duration": 11,
    "start_time": "2022-07-05T19:56:58.468Z"
   },
   {
    "duration": 46,
    "start_time": "2022-07-05T19:57:01.539Z"
   },
   {
    "duration": 1644,
    "start_time": "2022-07-05T19:57:07.842Z"
   },
   {
    "duration": 1781,
    "start_time": "2022-07-05T19:57:09.488Z"
   },
   {
    "duration": 17,
    "start_time": "2022-07-05T19:57:11.272Z"
   },
   {
    "duration": 63,
    "start_time": "2022-07-05T19:57:11.295Z"
   },
   {
    "duration": 58,
    "start_time": "2022-07-05T19:57:11.360Z"
   },
   {
    "duration": 43,
    "start_time": "2022-07-05T19:57:11.420Z"
   },
   {
    "duration": 103,
    "start_time": "2022-07-05T19:57:11.470Z"
   },
   {
    "duration": 19,
    "start_time": "2022-07-05T19:57:11.575Z"
   },
   {
    "duration": 17,
    "start_time": "2022-07-05T19:57:11.597Z"
   },
   {
    "duration": 77,
    "start_time": "2022-07-05T19:57:11.621Z"
   },
   {
    "duration": 33,
    "start_time": "2022-07-05T19:57:11.700Z"
   },
   {
    "duration": 22,
    "start_time": "2022-07-05T19:57:11.744Z"
   },
   {
    "duration": 28,
    "start_time": "2022-07-05T19:57:11.769Z"
   },
   {
    "duration": 51,
    "start_time": "2022-07-05T19:57:11.799Z"
   },
   {
    "duration": 32,
    "start_time": "2022-07-05T19:57:11.852Z"
   },
   {
    "duration": 1029,
    "start_time": "2022-07-05T19:57:11.886Z"
   },
   {
    "duration": 561,
    "start_time": "2022-07-05T19:57:12.921Z"
   },
   {
    "duration": 32,
    "start_time": "2022-07-05T19:57:13.484Z"
   },
   {
    "duration": 433,
    "start_time": "2022-07-05T19:57:13.517Z"
   },
   {
    "duration": 332,
    "start_time": "2022-07-05T19:57:13.953Z"
   },
   {
    "duration": 0,
    "start_time": "2022-07-05T19:57:14.287Z"
   },
   {
    "duration": 0,
    "start_time": "2022-07-05T19:57:14.289Z"
   },
   {
    "duration": 0,
    "start_time": "2022-07-05T19:57:14.291Z"
   },
   {
    "duration": 0,
    "start_time": "2022-07-05T19:57:14.293Z"
   },
   {
    "duration": 0,
    "start_time": "2022-07-05T19:57:14.294Z"
   },
   {
    "duration": 0,
    "start_time": "2022-07-05T19:57:14.295Z"
   },
   {
    "duration": 0,
    "start_time": "2022-07-05T19:57:14.304Z"
   },
   {
    "duration": 0,
    "start_time": "2022-07-05T19:57:14.305Z"
   },
   {
    "duration": 0,
    "start_time": "2022-07-05T19:57:14.307Z"
   },
   {
    "duration": 0,
    "start_time": "2022-07-05T19:57:14.308Z"
   },
   {
    "duration": 0,
    "start_time": "2022-07-05T19:57:14.310Z"
   },
   {
    "duration": 4,
    "start_time": "2022-07-05T19:57:39.164Z"
   },
   {
    "duration": 18,
    "start_time": "2022-07-05T19:57:42.803Z"
   },
   {
    "duration": 0,
    "start_time": "2022-07-05T19:57:42.824Z"
   },
   {
    "duration": 0,
    "start_time": "2022-07-05T19:57:42.825Z"
   },
   {
    "duration": 91,
    "start_time": "2022-07-05T19:57:42.827Z"
   },
   {
    "duration": 120,
    "start_time": "2022-07-05T19:57:42.922Z"
   },
   {
    "duration": 188,
    "start_time": "2022-07-05T19:57:43.044Z"
   },
   {
    "duration": 73,
    "start_time": "2022-07-05T19:57:43.237Z"
   },
   {
    "duration": 100,
    "start_time": "2022-07-05T19:57:43.312Z"
   },
   {
    "duration": 1221,
    "start_time": "2022-07-05T19:57:43.421Z"
   },
   {
    "duration": 1301,
    "start_time": "2022-07-05T19:57:44.644Z"
   },
   {
    "duration": 1351,
    "start_time": "2022-07-05T19:57:45.947Z"
   },
   {
    "duration": 6,
    "start_time": "2022-07-05T19:57:56.435Z"
   },
   {
    "duration": 1349,
    "start_time": "2022-07-05T19:57:59.802Z"
   },
   {
    "duration": 5,
    "start_time": "2022-07-05T19:59:17.059Z"
   },
   {
    "duration": 1306,
    "start_time": "2022-07-05T19:59:18.920Z"
   },
   {
    "duration": 5,
    "start_time": "2022-07-05T20:00:21.518Z"
   },
   {
    "duration": 1269,
    "start_time": "2022-07-05T20:00:22.884Z"
   },
   {
    "duration": 5,
    "start_time": "2022-07-05T20:00:40.288Z"
   },
   {
    "duration": 1203,
    "start_time": "2022-07-05T20:00:41.516Z"
   },
   {
    "duration": 1177,
    "start_time": "2022-07-05T20:00:43.658Z"
   },
   {
    "duration": 1252,
    "start_time": "2022-07-05T20:00:46.487Z"
   },
   {
    "duration": 6,
    "start_time": "2022-07-05T20:01:31.776Z"
   },
   {
    "duration": 1173,
    "start_time": "2022-07-05T20:01:32.847Z"
   },
   {
    "duration": 1208,
    "start_time": "2022-07-05T20:01:38.639Z"
   },
   {
    "duration": 1168,
    "start_time": "2022-07-05T20:01:41.222Z"
   },
   {
    "duration": 75,
    "start_time": "2022-07-06T19:49:01.867Z"
   },
   {
    "duration": 1815,
    "start_time": "2022-07-06T19:50:13.478Z"
   },
   {
    "duration": 1104,
    "start_time": "2022-07-06T19:50:15.297Z"
   },
   {
    "duration": 19,
    "start_time": "2022-07-06T19:50:16.403Z"
   },
   {
    "duration": 55,
    "start_time": "2022-07-06T19:50:16.428Z"
   },
   {
    "duration": 63,
    "start_time": "2022-07-06T19:50:16.486Z"
   },
   {
    "duration": 30,
    "start_time": "2022-07-06T19:50:16.552Z"
   },
   {
    "duration": 54,
    "start_time": "2022-07-06T19:50:16.584Z"
   },
   {
    "duration": 38,
    "start_time": "2022-07-06T19:50:16.642Z"
   },
   {
    "duration": 33,
    "start_time": "2022-07-06T19:50:16.682Z"
   },
   {
    "duration": 74,
    "start_time": "2022-07-06T19:50:16.719Z"
   },
   {
    "duration": 22,
    "start_time": "2022-07-06T19:50:16.795Z"
   },
   {
    "duration": 38,
    "start_time": "2022-07-06T19:50:16.819Z"
   },
   {
    "duration": 48,
    "start_time": "2022-07-06T19:50:16.859Z"
   },
   {
    "duration": 49,
    "start_time": "2022-07-06T19:50:16.909Z"
   },
   {
    "duration": 28,
    "start_time": "2022-07-06T19:50:16.961Z"
   },
   {
    "duration": 1030,
    "start_time": "2022-07-06T19:50:16.991Z"
   },
   {
    "duration": 584,
    "start_time": "2022-07-06T19:50:18.025Z"
   },
   {
    "duration": 32,
    "start_time": "2022-07-06T19:50:18.611Z"
   },
   {
    "duration": 428,
    "start_time": "2022-07-06T19:50:18.646Z"
   },
   {
    "duration": 59,
    "start_time": "2022-07-06T19:50:19.082Z"
   },
   {
    "duration": 114,
    "start_time": "2022-07-06T19:50:19.155Z"
   },
   {
    "duration": 8,
    "start_time": "2022-07-06T19:50:19.273Z"
   },
   {
    "duration": 181,
    "start_time": "2022-07-06T19:50:19.283Z"
   },
   {
    "duration": 0,
    "start_time": "2022-07-06T19:50:19.466Z"
   },
   {
    "duration": 0,
    "start_time": "2022-07-06T19:50:19.468Z"
   },
   {
    "duration": 0,
    "start_time": "2022-07-06T19:50:19.469Z"
   },
   {
    "duration": 0,
    "start_time": "2022-07-06T19:50:19.470Z"
   },
   {
    "duration": 0,
    "start_time": "2022-07-06T19:50:19.473Z"
   },
   {
    "duration": 0,
    "start_time": "2022-07-06T19:50:19.474Z"
   },
   {
    "duration": 0,
    "start_time": "2022-07-06T19:50:19.475Z"
   },
   {
    "duration": 0,
    "start_time": "2022-07-06T19:50:19.476Z"
   },
   {
    "duration": 248,
    "start_time": "2022-07-06T19:50:50.086Z"
   },
   {
    "duration": 458,
    "start_time": "2022-07-06T20:08:40.368Z"
   },
   {
    "duration": 548,
    "start_time": "2022-07-06T20:09:06.480Z"
   },
   {
    "duration": 134,
    "start_time": "2022-07-06T20:09:07.031Z"
   },
   {
    "duration": 132,
    "start_time": "2022-07-06T20:09:07.222Z"
   },
   {
    "duration": 134,
    "start_time": "2022-07-06T20:09:07.422Z"
   },
   {
    "duration": 5,
    "start_time": "2022-07-06T20:09:07.559Z"
   },
   {
    "duration": 8,
    "start_time": "2022-07-06T20:09:07.624Z"
   },
   {
    "duration": 1275,
    "start_time": "2022-07-06T20:09:07.722Z"
   },
   {
    "duration": 1157,
    "start_time": "2022-07-06T20:09:08.999Z"
   },
   {
    "duration": 1160,
    "start_time": "2022-07-06T20:09:10.158Z"
   }
  ],
  "kernelspec": {
   "display_name": "Python 3 (ipykernel)",
   "language": "python",
   "name": "python3"
  },
  "language_info": {
   "codemirror_mode": {
    "name": "ipython",
    "version": 3
   },
   "file_extension": ".py",
   "mimetype": "text/x-python",
   "name": "python",
   "nbconvert_exporter": "python",
   "pygments_lexer": "ipython3",
   "version": "3.9.5"
  },
  "toc": {
   "base_numbering": 1,
   "nav_menu": {},
   "number_sections": true,
   "sideBar": true,
   "skip_h1_title": true,
   "title_cell": "Table of Contents",
   "title_sidebar": "Contents",
   "toc_cell": false,
   "toc_position": {
    "height": "calc(100% - 180px)",
    "left": "10px",
    "top": "150px",
    "width": "164.248px"
   },
   "toc_section_display": true,
   "toc_window_display": false
  }
 },
 "nbformat": 4,
 "nbformat_minor": 2
}
